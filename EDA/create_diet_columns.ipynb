{
 "cells": [
  {
   "cell_type": "code",
   "execution_count": 2,
   "metadata": {},
   "outputs": [],
   "source": [
    "import pandas as pd\n",
    "import numpy as np\n",
    "import datetime as dt\n",
    "from sklearn.preprocessing import StandardScaler\n",
    "import matplotlib.pyplot as plt\n",
    "import os\n",
    "import seaborn as sns\n"
   ]
  },
  {
   "cell_type": "code",
   "execution_count": 3,
   "metadata": {},
   "outputs": [],
   "source": [
    "df = pd.read_csv(\"data/recipes_w_search_terms.csv\")\n",
    "df_2 = pd.read_csv(\"data/recipes.csv\")"
   ]
  },
  {
   "cell_type": "code",
   "execution_count": 4,
   "metadata": {},
   "outputs": [
    {
     "data": {
      "text/html": [
       "<div>\n",
       "<style scoped>\n",
       "    .dataframe tbody tr th:only-of-type {\n",
       "        vertical-align: middle;\n",
       "    }\n",
       "\n",
       "    .dataframe tbody tr th {\n",
       "        vertical-align: top;\n",
       "    }\n",
       "\n",
       "    .dataframe thead th {\n",
       "        text-align: right;\n",
       "    }\n",
       "</style>\n",
       "<table border=\"1\" class=\"dataframe\">\n",
       "  <thead>\n",
       "    <tr style=\"text-align: right;\">\n",
       "      <th></th>\n",
       "      <th>id</th>\n",
       "      <th>name</th>\n",
       "      <th>description</th>\n",
       "      <th>ingredients</th>\n",
       "      <th>ingredients_raw_str</th>\n",
       "      <th>serving_size</th>\n",
       "      <th>servings</th>\n",
       "      <th>steps</th>\n",
       "      <th>tags</th>\n",
       "      <th>search_terms</th>\n",
       "    </tr>\n",
       "  </thead>\n",
       "  <tbody>\n",
       "    <tr>\n",
       "      <th>0</th>\n",
       "      <td>96313</td>\n",
       "      <td>Grilled Garlic Cheese Grits</td>\n",
       "      <td>We love grits, this is another good way to ser...</td>\n",
       "      <td>['water', 'grits', 'salt', 'cheddar cheese', '...</td>\n",
       "      <td>[\"4   cups    water\",\"1   cup   uncooked old f...</td>\n",
       "      <td>1 (155 g)</td>\n",
       "      <td>8</td>\n",
       "      <td>['I a sauce pan, bring water to a boil; slowly...</td>\n",
       "      <td>['time-to-make', 'course', 'main-ingredient', ...</td>\n",
       "      <td>{'diabetic', 'low-calorie', 'vegetarian', 'low...</td>\n",
       "    </tr>\n",
       "  </tbody>\n",
       "</table>\n",
       "</div>"
      ],
      "text/plain": [
       "      id                         name   \n",
       "0  96313  Grilled Garlic Cheese Grits  \\\n",
       "\n",
       "                                         description   \n",
       "0  We love grits, this is another good way to ser...  \\\n",
       "\n",
       "                                         ingredients   \n",
       "0  ['water', 'grits', 'salt', 'cheddar cheese', '...  \\\n",
       "\n",
       "                                 ingredients_raw_str serving_size  servings   \n",
       "0  [\"4   cups    water\",\"1   cup   uncooked old f...    1 (155 g)         8  \\\n",
       "\n",
       "                                               steps   \n",
       "0  ['I a sauce pan, bring water to a boil; slowly...  \\\n",
       "\n",
       "                                                tags   \n",
       "0  ['time-to-make', 'course', 'main-ingredient', ...  \\\n",
       "\n",
       "                                        search_terms  \n",
       "0  {'diabetic', 'low-calorie', 'vegetarian', 'low...  "
      ]
     },
     "execution_count": 4,
     "metadata": {},
     "output_type": "execute_result"
    }
   ],
   "source": [
    "df.head(1)"
   ]
  },
  {
   "cell_type": "code",
   "execution_count": 5,
   "metadata": {},
   "outputs": [
    {
     "data": {
      "text/html": [
       "<div>\n",
       "<style scoped>\n",
       "    .dataframe tbody tr th:only-of-type {\n",
       "        vertical-align: middle;\n",
       "    }\n",
       "\n",
       "    .dataframe tbody tr th {\n",
       "        vertical-align: top;\n",
       "    }\n",
       "\n",
       "    .dataframe thead th {\n",
       "        text-align: right;\n",
       "    }\n",
       "</style>\n",
       "<table border=\"1\" class=\"dataframe\">\n",
       "  <thead>\n",
       "    <tr style=\"text-align: right;\">\n",
       "      <th></th>\n",
       "      <th>RecipeId</th>\n",
       "      <th>Name</th>\n",
       "      <th>AuthorId</th>\n",
       "      <th>AuthorName</th>\n",
       "      <th>CookTime</th>\n",
       "      <th>PrepTime</th>\n",
       "      <th>TotalTime</th>\n",
       "      <th>DatePublished</th>\n",
       "      <th>Description</th>\n",
       "      <th>Images</th>\n",
       "      <th>...</th>\n",
       "      <th>SaturatedFatContent</th>\n",
       "      <th>CholesterolContent</th>\n",
       "      <th>SodiumContent</th>\n",
       "      <th>CarbohydrateContent</th>\n",
       "      <th>FiberContent</th>\n",
       "      <th>SugarContent</th>\n",
       "      <th>ProteinContent</th>\n",
       "      <th>RecipeServings</th>\n",
       "      <th>RecipeYield</th>\n",
       "      <th>RecipeInstructions</th>\n",
       "    </tr>\n",
       "  </thead>\n",
       "  <tbody>\n",
       "    <tr>\n",
       "      <th>0</th>\n",
       "      <td>38</td>\n",
       "      <td>Low-Fat Berry Blue Frozen Dessert</td>\n",
       "      <td>1533</td>\n",
       "      <td>Dancer</td>\n",
       "      <td>PT24H</td>\n",
       "      <td>PT45M</td>\n",
       "      <td>PT24H45M</td>\n",
       "      <td>1999-08-09T21:46:00Z</td>\n",
       "      <td>Make and share this Low-Fat Berry Blue Frozen ...</td>\n",
       "      <td>c(\"https://img.sndimg.com/food/image/upload/w_...</td>\n",
       "      <td>...</td>\n",
       "      <td>1.3</td>\n",
       "      <td>8.0</td>\n",
       "      <td>29.8</td>\n",
       "      <td>37.1</td>\n",
       "      <td>3.6</td>\n",
       "      <td>30.2</td>\n",
       "      <td>3.2</td>\n",
       "      <td>4.0</td>\n",
       "      <td>NaN</td>\n",
       "      <td>c(\"Toss 2 cups berries with sugar.\", \"Let stan...</td>\n",
       "    </tr>\n",
       "  </tbody>\n",
       "</table>\n",
       "<p>1 rows × 28 columns</p>\n",
       "</div>"
      ],
      "text/plain": [
       "   RecipeId                               Name  AuthorId AuthorName CookTime   \n",
       "0        38  Low-Fat Berry Blue Frozen Dessert      1533     Dancer    PT24H  \\\n",
       "\n",
       "  PrepTime TotalTime         DatePublished   \n",
       "0    PT45M  PT24H45M  1999-08-09T21:46:00Z  \\\n",
       "\n",
       "                                         Description   \n",
       "0  Make and share this Low-Fat Berry Blue Frozen ...  \\\n",
       "\n",
       "                                              Images  ... SaturatedFatContent   \n",
       "0  c(\"https://img.sndimg.com/food/image/upload/w_...  ...                 1.3  \\\n",
       "\n",
       "  CholesterolContent SodiumContent CarbohydrateContent  FiberContent   \n",
       "0                8.0          29.8                37.1           3.6  \\\n",
       "\n",
       "   SugarContent  ProteinContent  RecipeServings  RecipeYield   \n",
       "0          30.2             3.2             4.0          NaN  \\\n",
       "\n",
       "                                  RecipeInstructions  \n",
       "0  c(\"Toss 2 cups berries with sugar.\", \"Let stan...  \n",
       "\n",
       "[1 rows x 28 columns]"
      ]
     },
     "execution_count": 5,
     "metadata": {},
     "output_type": "execute_result"
    }
   ],
   "source": [
    "df_2.head(1)"
   ]
  },
  {
   "cell_type": "markdown",
   "metadata": {},
   "source": [
    "## Merge recipe dataset with searchterms "
   ]
  },
  {
   "cell_type": "code",
   "execution_count": 6,
   "metadata": {},
   "outputs": [
    {
     "data": {
      "text/html": [
       "<div>\n",
       "<style scoped>\n",
       "    .dataframe tbody tr th:only-of-type {\n",
       "        vertical-align: middle;\n",
       "    }\n",
       "\n",
       "    .dataframe tbody tr th {\n",
       "        vertical-align: top;\n",
       "    }\n",
       "\n",
       "    .dataframe thead th {\n",
       "        text-align: right;\n",
       "    }\n",
       "</style>\n",
       "<table border=\"1\" class=\"dataframe\">\n",
       "  <thead>\n",
       "    <tr style=\"text-align: right;\">\n",
       "      <th></th>\n",
       "      <th>RecipeId</th>\n",
       "      <th>Name</th>\n",
       "      <th>AuthorId</th>\n",
       "      <th>AuthorName</th>\n",
       "      <th>CookTime</th>\n",
       "      <th>PrepTime</th>\n",
       "      <th>TotalTime</th>\n",
       "      <th>DatePublished</th>\n",
       "      <th>Description</th>\n",
       "      <th>Images</th>\n",
       "      <th>...</th>\n",
       "      <th>SodiumContent</th>\n",
       "      <th>CarbohydrateContent</th>\n",
       "      <th>FiberContent</th>\n",
       "      <th>SugarContent</th>\n",
       "      <th>ProteinContent</th>\n",
       "      <th>RecipeServings</th>\n",
       "      <th>RecipeYield</th>\n",
       "      <th>RecipeInstructions</th>\n",
       "      <th>id</th>\n",
       "      <th>search_terms</th>\n",
       "    </tr>\n",
       "  </thead>\n",
       "  <tbody>\n",
       "    <tr>\n",
       "      <th>0</th>\n",
       "      <td>38</td>\n",
       "      <td>Low-Fat Berry Blue Frozen Dessert</td>\n",
       "      <td>1533</td>\n",
       "      <td>Dancer</td>\n",
       "      <td>PT24H</td>\n",
       "      <td>PT45M</td>\n",
       "      <td>PT24H45M</td>\n",
       "      <td>1999-08-09T21:46:00Z</td>\n",
       "      <td>Make and share this Low-Fat Berry Blue Frozen ...</td>\n",
       "      <td>c(\"https://img.sndimg.com/food/image/upload/w_...</td>\n",
       "      <td>...</td>\n",
       "      <td>29.8</td>\n",
       "      <td>37.1</td>\n",
       "      <td>3.6</td>\n",
       "      <td>30.2</td>\n",
       "      <td>3.2</td>\n",
       "      <td>4.0</td>\n",
       "      <td>NaN</td>\n",
       "      <td>c(\"Toss 2 cups berries with sugar.\", \"Let stan...</td>\n",
       "      <td>38.0</td>\n",
       "      <td>{'low-calorie', 'low-sodium', 'dessert', 'heal...</td>\n",
       "    </tr>\n",
       "  </tbody>\n",
       "</table>\n",
       "<p>1 rows × 30 columns</p>\n",
       "</div>"
      ],
      "text/plain": [
       "   RecipeId                               Name  AuthorId AuthorName CookTime   \n",
       "0        38  Low-Fat Berry Blue Frozen Dessert      1533     Dancer    PT24H  \\\n",
       "\n",
       "  PrepTime TotalTime         DatePublished   \n",
       "0    PT45M  PT24H45M  1999-08-09T21:46:00Z  \\\n",
       "\n",
       "                                         Description   \n",
       "0  Make and share this Low-Fat Berry Blue Frozen ...  \\\n",
       "\n",
       "                                              Images  ... SodiumContent   \n",
       "0  c(\"https://img.sndimg.com/food/image/upload/w_...  ...          29.8  \\\n",
       "\n",
       "  CarbohydrateContent FiberContent SugarContent  ProteinContent   \n",
       "0                37.1          3.6         30.2             3.2  \\\n",
       "\n",
       "   RecipeServings  RecipeYield   \n",
       "0             4.0          NaN  \\\n",
       "\n",
       "                                  RecipeInstructions    id   \n",
       "0  c(\"Toss 2 cups berries with sugar.\", \"Let stan...  38.0  \\\n",
       "\n",
       "                                        search_terms  \n",
       "0  {'low-calorie', 'low-sodium', 'dessert', 'heal...  \n",
       "\n",
       "[1 rows x 30 columns]"
      ]
     },
     "execution_count": 6,
     "metadata": {},
     "output_type": "execute_result"
    }
   ],
   "source": [
    "df_2 = pd.merge(df_2, df[['id', 'search_terms']], how= 'left', left_on = 'RecipeId', right_on='id')\n",
    "df_2.head(1)"
   ]
  },
  {
   "cell_type": "code",
   "execution_count": 7,
   "metadata": {},
   "outputs": [],
   "source": [
    "df_2.drop('id', axis=1, inplace=True)"
   ]
  },
  {
   "cell_type": "code",
   "execution_count": 8,
   "metadata": {},
   "outputs": [
    {
     "data": {
      "text/html": [
       "<div>\n",
       "<style scoped>\n",
       "    .dataframe tbody tr th:only-of-type {\n",
       "        vertical-align: middle;\n",
       "    }\n",
       "\n",
       "    .dataframe tbody tr th {\n",
       "        vertical-align: top;\n",
       "    }\n",
       "\n",
       "    .dataframe thead th {\n",
       "        text-align: right;\n",
       "    }\n",
       "</style>\n",
       "<table border=\"1\" class=\"dataframe\">\n",
       "  <thead>\n",
       "    <tr style=\"text-align: right;\">\n",
       "      <th></th>\n",
       "      <th>RecipeId</th>\n",
       "      <th>Name</th>\n",
       "      <th>AuthorId</th>\n",
       "      <th>AuthorName</th>\n",
       "      <th>CookTime</th>\n",
       "      <th>PrepTime</th>\n",
       "      <th>TotalTime</th>\n",
       "      <th>DatePublished</th>\n",
       "      <th>Description</th>\n",
       "      <th>Images</th>\n",
       "      <th>...</th>\n",
       "      <th>CholesterolContent</th>\n",
       "      <th>SodiumContent</th>\n",
       "      <th>CarbohydrateContent</th>\n",
       "      <th>FiberContent</th>\n",
       "      <th>SugarContent</th>\n",
       "      <th>ProteinContent</th>\n",
       "      <th>RecipeServings</th>\n",
       "      <th>RecipeYield</th>\n",
       "      <th>RecipeInstructions</th>\n",
       "      <th>search_terms</th>\n",
       "    </tr>\n",
       "  </thead>\n",
       "  <tbody>\n",
       "    <tr>\n",
       "      <th>0</th>\n",
       "      <td>38</td>\n",
       "      <td>Low-Fat Berry Blue Frozen Dessert</td>\n",
       "      <td>1533</td>\n",
       "      <td>Dancer</td>\n",
       "      <td>PT24H</td>\n",
       "      <td>PT45M</td>\n",
       "      <td>PT24H45M</td>\n",
       "      <td>1999-08-09T21:46:00Z</td>\n",
       "      <td>Make and share this Low-Fat Berry Blue Frozen ...</td>\n",
       "      <td>c(\"https://img.sndimg.com/food/image/upload/w_...</td>\n",
       "      <td>...</td>\n",
       "      <td>8.0</td>\n",
       "      <td>29.8</td>\n",
       "      <td>37.1</td>\n",
       "      <td>3.6</td>\n",
       "      <td>30.2</td>\n",
       "      <td>3.2</td>\n",
       "      <td>4.0</td>\n",
       "      <td>NaN</td>\n",
       "      <td>c(\"Toss 2 cups berries with sugar.\", \"Let stan...</td>\n",
       "      <td>{'low-calorie', 'low-sodium', 'dessert', 'heal...</td>\n",
       "    </tr>\n",
       "  </tbody>\n",
       "</table>\n",
       "<p>1 rows × 29 columns</p>\n",
       "</div>"
      ],
      "text/plain": [
       "   RecipeId                               Name  AuthorId AuthorName CookTime   \n",
       "0        38  Low-Fat Berry Blue Frozen Dessert      1533     Dancer    PT24H  \\\n",
       "\n",
       "  PrepTime TotalTime         DatePublished   \n",
       "0    PT45M  PT24H45M  1999-08-09T21:46:00Z  \\\n",
       "\n",
       "                                         Description   \n",
       "0  Make and share this Low-Fat Berry Blue Frozen ...  \\\n",
       "\n",
       "                                              Images  ... CholesterolContent   \n",
       "0  c(\"https://img.sndimg.com/food/image/upload/w_...  ...                8.0  \\\n",
       "\n",
       "  SodiumContent CarbohydrateContent FiberContent  SugarContent   \n",
       "0          29.8                37.1          3.6          30.2  \\\n",
       "\n",
       "   ProteinContent  RecipeServings  RecipeYield   \n",
       "0             3.2             4.0          NaN  \\\n",
       "\n",
       "                                  RecipeInstructions   \n",
       "0  c(\"Toss 2 cups berries with sugar.\", \"Let stan...  \\\n",
       "\n",
       "                                        search_terms  \n",
       "0  {'low-calorie', 'low-sodium', 'dessert', 'heal...  \n",
       "\n",
       "[1 rows x 29 columns]"
      ]
     },
     "execution_count": 8,
     "metadata": {},
     "output_type": "execute_result"
    }
   ],
   "source": [
    "df_2.head(1)"
   ]
  },
  {
   "cell_type": "code",
   "execution_count": 9,
   "metadata": {},
   "outputs": [],
   "source": [
    "df_searchterms = df_2[['RecipeId','search_terms']]"
   ]
  },
  {
   "cell_type": "code",
   "execution_count": 10,
   "metadata": {},
   "outputs": [
    {
     "data": {
      "text/html": [
       "<div>\n",
       "<style scoped>\n",
       "    .dataframe tbody tr th:only-of-type {\n",
       "        vertical-align: middle;\n",
       "    }\n",
       "\n",
       "    .dataframe tbody tr th {\n",
       "        vertical-align: top;\n",
       "    }\n",
       "\n",
       "    .dataframe thead th {\n",
       "        text-align: right;\n",
       "    }\n",
       "</style>\n",
       "<table border=\"1\" class=\"dataframe\">\n",
       "  <thead>\n",
       "    <tr style=\"text-align: right;\">\n",
       "      <th></th>\n",
       "      <th>RecipeId</th>\n",
       "      <th>search_terms</th>\n",
       "    </tr>\n",
       "  </thead>\n",
       "  <tbody>\n",
       "    <tr>\n",
       "      <th>0</th>\n",
       "      <td>38</td>\n",
       "      <td>{'low-calorie', 'low-sodium', 'dessert', 'heal...</td>\n",
       "    </tr>\n",
       "    <tr>\n",
       "      <th>1</th>\n",
       "      <td>39</td>\n",
       "      <td>{'indian', 'dinner', 'low-sodium'}</td>\n",
       "    </tr>\n",
       "    <tr>\n",
       "      <th>2</th>\n",
       "      <td>40</td>\n",
       "      <td>{'healthy', 'low-fat', 'low-sodium'}</td>\n",
       "    </tr>\n",
       "    <tr>\n",
       "      <th>3</th>\n",
       "      <td>41</td>\n",
       "      <td>{'side', 'low-calorie', 'vegetarian', 'low-carb'}</td>\n",
       "    </tr>\n",
       "    <tr>\n",
       "      <th>4</th>\n",
       "      <td>42</td>\n",
       "      <td>{'low-calorie', 'vegetarian', 'healthy', 'low-...</td>\n",
       "    </tr>\n",
       "  </tbody>\n",
       "</table>\n",
       "</div>"
      ],
      "text/plain": [
       "   RecipeId                                       search_terms\n",
       "0        38  {'low-calorie', 'low-sodium', 'dessert', 'heal...\n",
       "1        39                 {'indian', 'dinner', 'low-sodium'}\n",
       "2        40               {'healthy', 'low-fat', 'low-sodium'}\n",
       "3        41  {'side', 'low-calorie', 'vegetarian', 'low-carb'}\n",
       "4        42  {'low-calorie', 'vegetarian', 'healthy', 'low-..."
      ]
     },
     "execution_count": 10,
     "metadata": {},
     "output_type": "execute_result"
    }
   ],
   "source": [
    "df_searchterms.head()"
   ]
  },
  {
   "cell_type": "code",
   "execution_count": 11,
   "metadata": {},
   "outputs": [
    {
     "name": "stderr",
     "output_type": "stream",
     "text": [
      "/var/folders/83/jmlgpb4s3yl470xp9xbv89n40000gn/T/ipykernel_12868/1654578159.py:2: SettingWithCopyWarning: \n",
      "A value is trying to be set on a copy of a slice from a DataFrame.\n",
      "Try using .loc[row_indexer,col_indexer] = value instead\n",
      "\n",
      "See the caveats in the documentation: https://pandas.pydata.org/pandas-docs/stable/user_guide/indexing.html#returning-a-view-versus-a-copy\n",
      "  df_searchterms['search_terms'] = df_searchterms['search_terms'].apply(lambda x: ast.literal_eval(x) if pd.notna(x) else x)\n"
     ]
    },
    {
     "data": {
      "text/plain": [
       "dinner         215831\n",
       "dessert        116353\n",
       "low-sodium      94177\n",
       "low-carb        89648\n",
       "low-calorie     76516\n",
       "                ...  \n",
       "no flour           20\n",
       "no meat            11\n",
       "carb-free           7\n",
       "sodium-free         4\n",
       "flour-less          3\n",
       "Name: count, Length: 98, dtype: int64"
      ]
     },
     "execution_count": 11,
     "metadata": {},
     "output_type": "execute_result"
    }
   ],
   "source": [
    "import ast\n",
    "df_searchterms['search_terms'] = df_searchterms['search_terms'].apply(lambda x: ast.literal_eval(x) if pd.notna(x) else x)\n",
    "\n",
    "# Flatten the sets into a single list\n",
    "all_terms = [term for terms_set in df_searchterms['search_terms'] if pd.notna(terms_set) for term in terms_set]\n",
    "\n",
    "# Create a pandas Series to easily get unique values and their counts\n",
    "terms_series = pd.Series(all_terms)\n",
    "\n",
    "# Get unique values and their counts\n",
    "unique_terms_counts = terms_series.value_counts(dropna=False)\n",
    "\n",
    "# Display the result\n",
    "unique_terms_counts"
   ]
  },
  {
   "cell_type": "code",
   "execution_count": 12,
   "metadata": {},
   "outputs": [
    {
     "data": {
      "text/plain": [
       "dinner         215831\n",
       "dessert        116353\n",
       "low-sodium      94177\n",
       "low-carb        89648\n",
       "low-calorie     76516\n",
       "healthy         70938\n",
       "vegetarian      69036\n",
       "side            52576\n",
       "low-fat         48050\n",
       "appetizer       47842\n",
       "chicken         46439\n",
       "lunch           45055\n",
       "breakfast       31196\n",
       "salad           29113\n",
       "bread           27818\n",
       "soup            21121\n",
       "vegan           20401\n",
       "cake            20037\n",
       "italian         17066\n",
       "snack           16816\n",
       "southern        15844\n",
       "mexican         15629\n",
       "cookie          14918\n",
       "diabetic        13453\n",
       "pasta           12925\n",
       "casserole       11947\n",
       "pork            11861\n",
       "pie             11848\n",
       "gluten-free     11809\n",
       "beef            10676\n",
       "Name: count, dtype: int64"
      ]
     },
     "execution_count": 12,
     "metadata": {},
     "output_type": "execute_result"
    }
   ],
   "source": [
    "unique_terms_counts.head(30) #unique_terms_counts.shape"
   ]
  },
  {
   "cell_type": "code",
   "execution_count": 13,
   "metadata": {},
   "outputs": [
    {
     "name": "stdout",
     "output_type": "stream",
     "text": [
      "['american', 'appetizer', 'atkins', 'baked', 'barbecue', 'beef', 'braised', 'brazilian', 'bread', 'breakfast', 'cajun', 'cake', 'carb-free', 'caribbean', 'casserole', 'chicken', 'chilean', 'chinese', 'cookie', 'creole', 'cuban', 'dairy-free', 'dessert', 'diabetic', 'diet', 'dinner', 'drink', 'egyptian', 'english', 'ethiopian', 'fat-free', 'fish', 'flour-less', 'flourless', 'french', 'german', 'gluten-free', 'grain-free', 'greek', 'healthy', 'indian', 'indonesian', 'irish', 'italian', 'jamaican', 'japanese', 'korean', 'lactose-free', 'lamb', 'lebanese', 'light', 'low-calorie', 'low-carb', 'low-fat', 'low-sodium', 'low-sugar', 'lowfat', 'lunch', 'malaysian', 'meatless', 'mexican', 'moroccan', 'nigerian', 'no flour', 'no meat', 'noodles', 'pasta', 'persian', 'peruvian', 'pie', 'pizza', 'polish', 'pork', 'pudding', 'quick', 'rice', 'roast', 'russian', 'salad', 'salt-free', 'sandwich', 'scottish', 'seafood', 'shrimp', 'side', 'snack', 'sodium-free', 'soup', 'southern', 'spanish', 'stew', 'sugar-free', 'sugarless', 'thai', 'turkish', 'vegan', 'vegetarian', 'vietnamese']\n"
     ]
    }
   ],
   "source": [
    "all_terms = [term for terms_list in df_searchterms['search_terms'] if pd.notna(terms_list) for term in terms_list]\n",
    "\n",
    "# Extract unique searchterms\n",
    "unique_terms = list(set(all_terms))\n",
    "sorted_unique_terms = sorted(unique_terms)\n",
    "\n",
    "# Display searchterms in alphabetic order\n",
    "print(sorted_unique_terms)"
   ]
  },
  {
   "cell_type": "markdown",
   "metadata": {},
   "source": [
    "## Create diet specific columns"
   ]
  },
  {
   "cell_type": "markdown",
   "metadata": {},
   "source": [
    "#### Create diet specifc lists based on searchterms\n"
   ]
  },
  {
   "cell_type": "code",
   "execution_count": 17,
   "metadata": {},
   "outputs": [],
   "source": [
    "vegan_recipe_list = df_2[df_2['search_terms'].str.contains('vegan', na=False)]['RecipeId'].tolist()\n",
    "vegetarian_recipe_list = df_2[df_2['search_terms'].str.contains('vegetarian', na=False)]['RecipeId'].tolist()\n",
    "nomeat_recipe_list = df_2[df_2['search_terms'].str.contains('no meat', na=False)]['RecipeId'].tolist()\n",
    "\n",
    "lactosefree_recipe_list = df_2[df_2['search_terms'].str.contains('lactose-free', na=False)]['RecipeId'].tolist()\n",
    "dairyfree_recipe_list = df_2[df_2['search_terms'].str.contains('dairy-free', na=False)]['RecipeId'].tolist()\n",
    "\n",
    "glutenfree_recipe_list = df_2[df_2['search_terms'].str.contains('gluten-free', na=False)]['RecipeId'].tolist()\n",
    "grainfree_recipe_list = df_2[df_2['search_terms'].str.contains('grain-free', na=False)]['RecipeId'].tolist()\n",
    "flour_less_recipe_list = df_2[df_2['search_terms'].str.contains('flour-less', na=False)]['RecipeId'].tolist()\n",
    "flourless_recipe_list = df_2[df_2['search_terms'].str.contains('flourless', na=False)]['RecipeId'].tolist()\n",
    "noflour_recipe_list = df_2[df_2['search_terms'].str.contains('no flour', na=False)]['RecipeId'].tolist()"
   ]
  },
  {
   "cell_type": "markdown",
   "metadata": {},
   "source": [
    "#### Create diet specific columns "
   ]
  },
  {
   "cell_type": "code",
   "execution_count": null,
   "metadata": {},
   "outputs": [],
   "source": [
    "#Create vegan column\n",
    "df_2['vegan'] = 0\n",
    "\n",
    "#Update column based on RecipeIds in veganlist  \n",
    "for recipe in vegan_recipe_list:\n",
    "    df_2.loc[df_2['RecipeId'] == recipe, 'vegan'] = 1\n"
   ]
  },
  {
   "cell_type": "code",
   "execution_count": null,
   "metadata": {},
   "outputs": [],
   "source": [
    "df_2.vegan.value_counts()"
   ]
  },
  {
   "cell_type": "code",
   "execution_count": null,
   "metadata": {},
   "outputs": [],
   "source": [
    "#Create vegetarian column\n",
    "df_2['vegetarian'] = 0\n",
    "\n",
    "#Update column based on RecipeIds in vegetarian-list  \n",
    "for recipe in vegetarian_recipe_list:\n",
    "    df_2.loc[df_2['RecipeId'] == recipe, 'vegetarian'] = 1 "
   ]
  },
  {
   "cell_type": "code",
   "execution_count": null,
   "metadata": {},
   "outputs": [],
   "source": [
    "df_2.vegetarian.value_counts()"
   ]
  },
  {
   "cell_type": "code",
   "execution_count": null,
   "metadata": {},
   "outputs": [],
   "source": [
    "#Update column based on RecipeIds in nomeat-list  \n",
    "for recipe in nomeat_recipe_list:\n",
    "    df_2.loc[df_2['RecipeId'] == recipe, 'vegetarian'] = 1 "
   ]
  },
  {
   "cell_type": "code",
   "execution_count": null,
   "metadata": {},
   "outputs": [],
   "source": [
    "#Update column based on RecipeIds in vegan-list  \n",
    "for recipe in vegan_recipe_list:\n",
    "    df_2.loc[df_2['RecipeId'] == recipe, 'vegetarian'] = 1"
   ]
  },
  {
   "cell_type": "code",
   "execution_count": null,
   "metadata": {},
   "outputs": [],
   "source": [
    "df_2.vegetarian.value_counts()"
   ]
  },
  {
   "cell_type": "code",
   "execution_count": 16,
   "metadata": {},
   "outputs": [
    {
     "ename": "NameError",
     "evalue": "name 'lactosefree_recipe_list' is not defined",
     "output_type": "error",
     "traceback": [
      "\u001b[0;31m---------------------------------------------------------------------------\u001b[0m",
      "\u001b[0;31mNameError\u001b[0m                                 Traceback (most recent call last)",
      "Cell \u001b[0;32mIn[16], line 5\u001b[0m\n\u001b[1;32m      2\u001b[0m df_2[\u001b[38;5;124m'\u001b[39m\u001b[38;5;124mlactosefree\u001b[39m\u001b[38;5;124m'\u001b[39m] \u001b[38;5;241m=\u001b[39m \u001b[38;5;241m0\u001b[39m \n\u001b[1;32m      4\u001b[0m \u001b[38;5;66;03m#Update column based on RecipeIds in lactosefree- & dairyfree-lists  \u001b[39;00m\n\u001b[0;32m----> 5\u001b[0m \u001b[38;5;28;01mfor\u001b[39;00m recipe \u001b[38;5;129;01min\u001b[39;00m \u001b[43mlactosefree_recipe_list\u001b[49m:\n\u001b[1;32m      6\u001b[0m     df_2\u001b[38;5;241m.\u001b[39mloc[df_2[\u001b[38;5;124m'\u001b[39m\u001b[38;5;124mRecipeId\u001b[39m\u001b[38;5;124m'\u001b[39m] \u001b[38;5;241m==\u001b[39m recipe, \u001b[38;5;124m'\u001b[39m\u001b[38;5;124mlactosefree\u001b[39m\u001b[38;5;124m'\u001b[39m] \u001b[38;5;241m=\u001b[39m \u001b[38;5;241m1\u001b[39m\n\u001b[1;32m      7\u001b[0m \u001b[38;5;28;01mfor\u001b[39;00m recipe \u001b[38;5;129;01min\u001b[39;00m dairyfree_recipe_list:\n",
      "\u001b[0;31mNameError\u001b[0m: name 'lactosefree_recipe_list' is not defined"
     ]
    }
   ],
   "source": [
    "#Create lactosefree column\n",
    "df_2['lactosefree'] = 0 \n",
    "\n",
    "#Update column based on RecipeIds in lactosefree- & dairyfree-lists  \n",
    "for recipe in lactosefree_recipe_list:\n",
    "    df_2.loc[df_2['RecipeId'] == recipe, 'lactosefree'] = 1\n",
    "for recipe in dairyfree_recipe_list:\n",
    "    df_2.loc[df_2['RecipeId'] == recipe, 'lactosefree'] = 1"
   ]
  },
  {
   "cell_type": "code",
   "execution_count": null,
   "metadata": {},
   "outputs": [],
   "source": [
    "#Update column based on RecipeIds in vegan-list  \n",
    "for recipe in vegan_recipe_list:\n",
    "    df_2.loc[df_2['RecipeId'] == recipe, 'lactosefree'] = 1"
   ]
  },
  {
   "cell_type": "code",
   "execution_count": null,
   "metadata": {},
   "outputs": [],
   "source": [
    "#Create glutenfree column\n",
    "df_2['glutenfree'] = 0\n",
    "\n",
    "#Update column based on RecipeIds in relevant lists\n",
    "for recipe in glutenfree_recipe_list:\n",
    "    df_2.loc[df_2['RecipeId'] == recipe, 'glutenfree'] = 1\n",
    "for recipe in grainfree_recipe_list: \n",
    "    df_2.loc[df_2['RecipeId'] == recipe, 'glutenfree'] = 1\n",
    "for recipe in flour_less_recipe_list:\n",
    "    df_2.loc[df_2['RecipeId'] == recipe, 'glutenfree'] = 1\n",
    "for recipe in flourless_recipe_list:\n",
    "    df_2.loc[df_2['RecipeId'] == recipe, 'glutenfree'] = 1\n",
    "for recipe in noflour_recipe_list:\n",
    "    df_2.loc[df_2['RecipeId'] == recipe, 'glutenfree'] = 1"
   ]
  },
  {
   "cell_type": "markdown",
   "metadata": {},
   "source": [
    "#### Checks & file creation\n",
    "\n"
   ]
  },
  {
   "cell_type": "code",
   "execution_count": 19,
   "metadata": {},
   "outputs": [
    {
     "data": {
      "text/html": [
       "<div>\n",
       "<style scoped>\n",
       "    .dataframe tbody tr th:only-of-type {\n",
       "        vertical-align: middle;\n",
       "    }\n",
       "\n",
       "    .dataframe tbody tr th {\n",
       "        vertical-align: top;\n",
       "    }\n",
       "\n",
       "    .dataframe thead th {\n",
       "        text-align: right;\n",
       "    }\n",
       "</style>\n",
       "<table border=\"1\" class=\"dataframe\">\n",
       "  <thead>\n",
       "    <tr style=\"text-align: right;\">\n",
       "      <th></th>\n",
       "      <th>RecipeId</th>\n",
       "      <th>Name</th>\n",
       "      <th>AuthorId</th>\n",
       "      <th>AuthorName</th>\n",
       "      <th>CookTime</th>\n",
       "      <th>PrepTime</th>\n",
       "      <th>TotalTime</th>\n",
       "      <th>DatePublished</th>\n",
       "      <th>Description</th>\n",
       "      <th>Images</th>\n",
       "      <th>...</th>\n",
       "      <th>SodiumContent</th>\n",
       "      <th>CarbohydrateContent</th>\n",
       "      <th>FiberContent</th>\n",
       "      <th>SugarContent</th>\n",
       "      <th>ProteinContent</th>\n",
       "      <th>RecipeServings</th>\n",
       "      <th>RecipeYield</th>\n",
       "      <th>RecipeInstructions</th>\n",
       "      <th>search_terms</th>\n",
       "      <th>lactosefree</th>\n",
       "    </tr>\n",
       "  </thead>\n",
       "  <tbody>\n",
       "    <tr>\n",
       "      <th>0</th>\n",
       "      <td>38</td>\n",
       "      <td>Low-Fat Berry Blue Frozen Dessert</td>\n",
       "      <td>1533</td>\n",
       "      <td>Dancer</td>\n",
       "      <td>PT24H</td>\n",
       "      <td>PT45M</td>\n",
       "      <td>PT24H45M</td>\n",
       "      <td>1999-08-09T21:46:00Z</td>\n",
       "      <td>Make and share this Low-Fat Berry Blue Frozen ...</td>\n",
       "      <td>c(\"https://img.sndimg.com/food/image/upload/w_...</td>\n",
       "      <td>...</td>\n",
       "      <td>29.8</td>\n",
       "      <td>37.1</td>\n",
       "      <td>3.6</td>\n",
       "      <td>30.2</td>\n",
       "      <td>3.2</td>\n",
       "      <td>4.0</td>\n",
       "      <td>NaN</td>\n",
       "      <td>c(\"Toss 2 cups berries with sugar.\", \"Let stan...</td>\n",
       "      <td>{'low-calorie', 'low-sodium', 'dessert', 'heal...</td>\n",
       "      <td>0</td>\n",
       "    </tr>\n",
       "  </tbody>\n",
       "</table>\n",
       "<p>1 rows × 30 columns</p>\n",
       "</div>"
      ],
      "text/plain": [
       "   RecipeId                               Name  AuthorId AuthorName CookTime   \n",
       "0        38  Low-Fat Berry Blue Frozen Dessert      1533     Dancer    PT24H  \\\n",
       "\n",
       "  PrepTime TotalTime         DatePublished   \n",
       "0    PT45M  PT24H45M  1999-08-09T21:46:00Z  \\\n",
       "\n",
       "                                         Description   \n",
       "0  Make and share this Low-Fat Berry Blue Frozen ...  \\\n",
       "\n",
       "                                              Images  ... SodiumContent   \n",
       "0  c(\"https://img.sndimg.com/food/image/upload/w_...  ...          29.8  \\\n",
       "\n",
       "  CarbohydrateContent FiberContent SugarContent  ProteinContent   \n",
       "0                37.1          3.6         30.2             3.2  \\\n",
       "\n",
       "   RecipeServings  RecipeYield   \n",
       "0             4.0          NaN  \\\n",
       "\n",
       "                                  RecipeInstructions   \n",
       "0  c(\"Toss 2 cups berries with sugar.\", \"Let stan...  \\\n",
       "\n",
       "                                        search_terms  lactosefree  \n",
       "0  {'low-calorie', 'low-sodium', 'dessert', 'heal...            0  \n",
       "\n",
       "[1 rows x 30 columns]"
      ]
     },
     "execution_count": 19,
     "metadata": {},
     "output_type": "execute_result"
    }
   ],
   "source": [
    "df_2.head(1)"
   ]
  },
  {
   "cell_type": "code",
   "execution_count": 18,
   "metadata": {},
   "outputs": [],
   "source": [
    "# Create pickle-file\n",
    "df_2.to_pickle('df_2.pkl')"
   ]
  },
  {
   "cell_type": "code",
   "execution_count": 15,
   "metadata": {},
   "outputs": [
    {
     "ename": "KeyError",
     "evalue": "'lactosefree'",
     "output_type": "error",
     "traceback": [
      "\u001b[0;31m---------------------------------------------------------------------------\u001b[0m",
      "\u001b[0;31mKeyError\u001b[0m                                  Traceback (most recent call last)",
      "File \u001b[0;32m~/ds-capstone/.venv/lib/python3.11/site-packages/pandas/core/indexes/base.py:3652\u001b[0m, in \u001b[0;36mIndex.get_loc\u001b[0;34m(self, key)\u001b[0m\n\u001b[1;32m   3651\u001b[0m \u001b[38;5;28;01mtry\u001b[39;00m:\n\u001b[0;32m-> 3652\u001b[0m     \u001b[38;5;28;01mreturn\u001b[39;00m \u001b[38;5;28;43mself\u001b[39;49m\u001b[38;5;241;43m.\u001b[39;49m\u001b[43m_engine\u001b[49m\u001b[38;5;241;43m.\u001b[39;49m\u001b[43mget_loc\u001b[49m\u001b[43m(\u001b[49m\u001b[43mcasted_key\u001b[49m\u001b[43m)\u001b[49m\n\u001b[1;32m   3653\u001b[0m \u001b[38;5;28;01mexcept\u001b[39;00m \u001b[38;5;167;01mKeyError\u001b[39;00m \u001b[38;5;28;01mas\u001b[39;00m err:\n",
      "File \u001b[0;32m~/ds-capstone/.venv/lib/python3.11/site-packages/pandas/_libs/index.pyx:147\u001b[0m, in \u001b[0;36mpandas._libs.index.IndexEngine.get_loc\u001b[0;34m()\u001b[0m\n",
      "File \u001b[0;32m~/ds-capstone/.venv/lib/python3.11/site-packages/pandas/_libs/index.pyx:176\u001b[0m, in \u001b[0;36mpandas._libs.index.IndexEngine.get_loc\u001b[0;34m()\u001b[0m\n",
      "File \u001b[0;32mpandas/_libs/hashtable_class_helper.pxi:7080\u001b[0m, in \u001b[0;36mpandas._libs.hashtable.PyObjectHashTable.get_item\u001b[0;34m()\u001b[0m\n",
      "File \u001b[0;32mpandas/_libs/hashtable_class_helper.pxi:7088\u001b[0m, in \u001b[0;36mpandas._libs.hashtable.PyObjectHashTable.get_item\u001b[0;34m()\u001b[0m\n",
      "\u001b[0;31mKeyError\u001b[0m: 'lactosefree'",
      "\nThe above exception was the direct cause of the following exception:\n",
      "\u001b[0;31mKeyError\u001b[0m                                  Traceback (most recent call last)",
      "Cell \u001b[0;32mIn[15], line 1\u001b[0m\n\u001b[0;32m----> 1\u001b[0m df_lactosefree \u001b[38;5;241m=\u001b[39m df_2\u001b[38;5;241m.\u001b[39mloc[\u001b[43mdf_2\u001b[49m\u001b[43m[\u001b[49m\u001b[38;5;124;43m'\u001b[39;49m\u001b[38;5;124;43mlactosefree\u001b[39;49m\u001b[38;5;124;43m'\u001b[39;49m\u001b[43m]\u001b[49m \u001b[38;5;241m==\u001b[39m \u001b[38;5;241m1\u001b[39m]\u001b[38;5;241m.\u001b[39mcopy()\n",
      "File \u001b[0;32m~/ds-capstone/.venv/lib/python3.11/site-packages/pandas/core/frame.py:3761\u001b[0m, in \u001b[0;36mDataFrame.__getitem__\u001b[0;34m(self, key)\u001b[0m\n\u001b[1;32m   3759\u001b[0m \u001b[38;5;28;01mif\u001b[39;00m \u001b[38;5;28mself\u001b[39m\u001b[38;5;241m.\u001b[39mcolumns\u001b[38;5;241m.\u001b[39mnlevels \u001b[38;5;241m>\u001b[39m \u001b[38;5;241m1\u001b[39m:\n\u001b[1;32m   3760\u001b[0m     \u001b[38;5;28;01mreturn\u001b[39;00m \u001b[38;5;28mself\u001b[39m\u001b[38;5;241m.\u001b[39m_getitem_multilevel(key)\n\u001b[0;32m-> 3761\u001b[0m indexer \u001b[38;5;241m=\u001b[39m \u001b[38;5;28;43mself\u001b[39;49m\u001b[38;5;241;43m.\u001b[39;49m\u001b[43mcolumns\u001b[49m\u001b[38;5;241;43m.\u001b[39;49m\u001b[43mget_loc\u001b[49m\u001b[43m(\u001b[49m\u001b[43mkey\u001b[49m\u001b[43m)\u001b[49m\n\u001b[1;32m   3762\u001b[0m \u001b[38;5;28;01mif\u001b[39;00m is_integer(indexer):\n\u001b[1;32m   3763\u001b[0m     indexer \u001b[38;5;241m=\u001b[39m [indexer]\n",
      "File \u001b[0;32m~/ds-capstone/.venv/lib/python3.11/site-packages/pandas/core/indexes/base.py:3654\u001b[0m, in \u001b[0;36mIndex.get_loc\u001b[0;34m(self, key)\u001b[0m\n\u001b[1;32m   3652\u001b[0m     \u001b[38;5;28;01mreturn\u001b[39;00m \u001b[38;5;28mself\u001b[39m\u001b[38;5;241m.\u001b[39m_engine\u001b[38;5;241m.\u001b[39mget_loc(casted_key)\n\u001b[1;32m   3653\u001b[0m \u001b[38;5;28;01mexcept\u001b[39;00m \u001b[38;5;167;01mKeyError\u001b[39;00m \u001b[38;5;28;01mas\u001b[39;00m err:\n\u001b[0;32m-> 3654\u001b[0m     \u001b[38;5;28;01mraise\u001b[39;00m \u001b[38;5;167;01mKeyError\u001b[39;00m(key) \u001b[38;5;28;01mfrom\u001b[39;00m \u001b[38;5;21;01merr\u001b[39;00m\n\u001b[1;32m   3655\u001b[0m \u001b[38;5;28;01mexcept\u001b[39;00m \u001b[38;5;167;01mTypeError\u001b[39;00m:\n\u001b[1;32m   3656\u001b[0m     \u001b[38;5;66;03m# If we have a listlike key, _check_indexing_error will raise\u001b[39;00m\n\u001b[1;32m   3657\u001b[0m     \u001b[38;5;66;03m#  InvalidIndexError. Otherwise we fall through and re-raise\u001b[39;00m\n\u001b[1;32m   3658\u001b[0m     \u001b[38;5;66;03m#  the TypeError.\u001b[39;00m\n\u001b[1;32m   3659\u001b[0m     \u001b[38;5;28mself\u001b[39m\u001b[38;5;241m.\u001b[39m_check_indexing_error(key)\n",
      "\u001b[0;31mKeyError\u001b[0m: 'lactosefree'"
     ]
    }
   ],
   "source": [
    "# Create lactosefree specific dataframe\n",
    "df_lactosefree = df_2.loc[df_2['lactosefree'] == 1].copy()"
   ]
  },
  {
   "cell_type": "code",
   "execution_count": null,
   "metadata": {},
   "outputs": [],
   "source": [
    "#Create csv\n",
    "df_2.to_csv('df_with_diets.csv', index=False)  \n"
   ]
  }
 ],
 "metadata": {
  "kernelspec": {
   "display_name": ".venv",
   "language": "python",
   "name": "python3"
  },
  "language_info": {
   "codemirror_mode": {
    "name": "ipython",
    "version": 3
   },
   "file_extension": ".py",
   "mimetype": "text/x-python",
   "name": "python",
   "nbconvert_exporter": "python",
   "pygments_lexer": "ipython3",
   "version": "3.11.3"
  }
 },
 "nbformat": 4,
 "nbformat_minor": 2
}
