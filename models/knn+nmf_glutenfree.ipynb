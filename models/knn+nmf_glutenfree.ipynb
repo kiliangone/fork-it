{
 "cells": [
  {
   "cell_type": "code",
   "execution_count": 1,
   "metadata": {},
   "outputs": [],
   "source": [
    "import pandas as pd\n",
    "import numpy as np\n",
    "import datetime as dt\n",
    "from sklearn.preprocessing import StandardScaler\n",
    "import matplotlib.pyplot as plt\n",
    "import os\n",
    "import seaborn as sns\n",
    "# import tensorflow as tf\n",
    "from sklearn.model_selection import train_test_split\n",
    "\n",
    "from sklearn.decomposition import NMF\n",
    "from sklearn.metrics import mean_squared_error, precision_score, recall_score, roc_auc_score\n",
    "from scipy.sparse import csr_matrix\n",
    "from sklearn.neighbors import NearestNeighbors"
   ]
  },
  {
   "cell_type": "code",
   "execution_count": 2,
   "metadata": {},
   "outputs": [],
   "source": [
    "df_recipes = pd.read_csv(\"../data/df_with_diets.csv\")\n",
    "df_reviews = pd.read_csv(\"../data/reviews.csv\")"
   ]
  },
  {
   "cell_type": "markdown",
   "metadata": {},
   "source": [
    "Later on in our notebook we will fill not rated recipes with 0. In order not to mess up the ratings we will adjust them by moving them from 0-5 to 1-6. So the not rated ones will have the new value 0."
   ]
  },
  {
   "cell_type": "code",
   "execution_count": 3,
   "metadata": {},
   "outputs": [],
   "source": [
    "# Change rating in order to make initial given 0 count unlike the 0 given for mising ratings\n",
    "def update_rating(value, updated):\n",
    "    if updated:\n",
    "        return value\n",
    "    if value == 0:\n",
    "        return 1, True\n",
    "    elif value == 1:\n",
    "        return 2, True\n",
    "    elif value == 2:\n",
    "        return 3, True\n",
    "    elif value == 3:\n",
    "        return 4, True\n",
    "    elif value == 4:\n",
    "        return 5, True\n",
    "    elif value == 5:\n",
    "        return 6, True\n",
    "    else:\n",
    "        return value, False  \n",
    "\n",
    "# Creates a new column to check if values are already adjusted\n",
    "df_reviews['Updated'] = False\n",
    "\n",
    "# # Apply the function to the entire column \"Rating\" in the DataFrame \"df_reviews\"\n",
    "df_reviews['Rating'], df_reviews['Updated'] = zip(*df_reviews.apply(lambda row: update_rating(row['Rating'], row['Updated']), axis=1))\n",
    "\n",
    "# Removing the auxiliary column 'Updated\n",
    "del df_reviews['Updated']"
   ]
  },
  {
   "cell_type": "code",
   "execution_count": 4,
   "metadata": {},
   "outputs": [
    {
     "data": {
      "text/html": [
       "<div>\n",
       "<style scoped>\n",
       "    .dataframe tbody tr th:only-of-type {\n",
       "        vertical-align: middle;\n",
       "    }\n",
       "\n",
       "    .dataframe tbody tr th {\n",
       "        vertical-align: top;\n",
       "    }\n",
       "\n",
       "    .dataframe thead th {\n",
       "        text-align: right;\n",
       "    }\n",
       "</style>\n",
       "<table border=\"1\" class=\"dataframe\">\n",
       "  <thead>\n",
       "    <tr style=\"text-align: right;\">\n",
       "      <th></th>\n",
       "      <th>RecipeId</th>\n",
       "      <th>Name</th>\n",
       "      <th>AuthorId</th>\n",
       "      <th>AuthorName</th>\n",
       "      <th>CookTime</th>\n",
       "      <th>PrepTime</th>\n",
       "      <th>TotalTime</th>\n",
       "      <th>DatePublished</th>\n",
       "      <th>Description</th>\n",
       "      <th>Images</th>\n",
       "      <th>...</th>\n",
       "      <th>SugarContent</th>\n",
       "      <th>ProteinContent</th>\n",
       "      <th>RecipeServings</th>\n",
       "      <th>RecipeYield</th>\n",
       "      <th>RecipeInstructions</th>\n",
       "      <th>search_terms</th>\n",
       "      <th>vegan</th>\n",
       "      <th>vegetarian</th>\n",
       "      <th>lactosefree</th>\n",
       "      <th>glutenfree</th>\n",
       "    </tr>\n",
       "  </thead>\n",
       "  <tbody>\n",
       "    <tr>\n",
       "      <th>0</th>\n",
       "      <td>38</td>\n",
       "      <td>Low-Fat Berry Blue Frozen Dessert</td>\n",
       "      <td>1533</td>\n",
       "      <td>Dancer</td>\n",
       "      <td>PT24H</td>\n",
       "      <td>PT45M</td>\n",
       "      <td>PT24H45M</td>\n",
       "      <td>1999-08-09T21:46:00Z</td>\n",
       "      <td>Make and share this Low-Fat Berry Blue Frozen ...</td>\n",
       "      <td>c(\"https://img.sndimg.com/food/image/upload/w_...</td>\n",
       "      <td>...</td>\n",
       "      <td>30.2</td>\n",
       "      <td>3.2</td>\n",
       "      <td>4.0</td>\n",
       "      <td>NaN</td>\n",
       "      <td>c(\"Toss 2 cups berries with sugar.\", \"Let stan...</td>\n",
       "      <td>{'low-calorie', 'low-sodium', 'dessert', 'heal...</td>\n",
       "      <td>0</td>\n",
       "      <td>0</td>\n",
       "      <td>0</td>\n",
       "      <td>1</td>\n",
       "    </tr>\n",
       "    <tr>\n",
       "      <th>1</th>\n",
       "      <td>39</td>\n",
       "      <td>Biryani</td>\n",
       "      <td>1567</td>\n",
       "      <td>elly9812</td>\n",
       "      <td>PT25M</td>\n",
       "      <td>PT4H</td>\n",
       "      <td>PT4H25M</td>\n",
       "      <td>1999-08-29T13:12:00Z</td>\n",
       "      <td>Make and share this Biryani recipe from Food.com.</td>\n",
       "      <td>c(\"https://img.sndimg.com/food/image/upload/w_...</td>\n",
       "      <td>...</td>\n",
       "      <td>20.4</td>\n",
       "      <td>63.4</td>\n",
       "      <td>6.0</td>\n",
       "      <td>NaN</td>\n",
       "      <td>c(\"Soak saffron in warm milk for 5 minutes and...</td>\n",
       "      <td>{'indian', 'dinner', 'low-sodium'}</td>\n",
       "      <td>0</td>\n",
       "      <td>0</td>\n",
       "      <td>0</td>\n",
       "      <td>0</td>\n",
       "    </tr>\n",
       "    <tr>\n",
       "      <th>2</th>\n",
       "      <td>40</td>\n",
       "      <td>Best Lemonade</td>\n",
       "      <td>1566</td>\n",
       "      <td>Stephen Little</td>\n",
       "      <td>PT5M</td>\n",
       "      <td>PT30M</td>\n",
       "      <td>PT35M</td>\n",
       "      <td>1999-09-05T19:52:00Z</td>\n",
       "      <td>This is from one of my  first Good House Keepi...</td>\n",
       "      <td>c(\"https://img.sndimg.com/food/image/upload/w_...</td>\n",
       "      <td>...</td>\n",
       "      <td>77.2</td>\n",
       "      <td>0.3</td>\n",
       "      <td>4.0</td>\n",
       "      <td>NaN</td>\n",
       "      <td>c(\"Into a 1 quart Jar with tight fitting lid, ...</td>\n",
       "      <td>{'healthy', 'low-fat', 'low-sodium'}</td>\n",
       "      <td>0</td>\n",
       "      <td>0</td>\n",
       "      <td>0</td>\n",
       "      <td>0</td>\n",
       "    </tr>\n",
       "    <tr>\n",
       "      <th>3</th>\n",
       "      <td>41</td>\n",
       "      <td>Carina's Tofu-Vegetable Kebabs</td>\n",
       "      <td>1586</td>\n",
       "      <td>Cyclopz</td>\n",
       "      <td>PT20M</td>\n",
       "      <td>PT24H</td>\n",
       "      <td>PT24H20M</td>\n",
       "      <td>1999-09-03T14:54:00Z</td>\n",
       "      <td>This dish is best prepared a day in advance to...</td>\n",
       "      <td>c(\"https://img.sndimg.com/food/image/upload/w_...</td>\n",
       "      <td>...</td>\n",
       "      <td>32.1</td>\n",
       "      <td>29.3</td>\n",
       "      <td>2.0</td>\n",
       "      <td>4 kebabs</td>\n",
       "      <td>c(\"Drain the tofu, carefully squeezing out exc...</td>\n",
       "      <td>{'side', 'low-calorie', 'vegetarian', 'low-carb'}</td>\n",
       "      <td>0</td>\n",
       "      <td>1</td>\n",
       "      <td>0</td>\n",
       "      <td>0</td>\n",
       "    </tr>\n",
       "    <tr>\n",
       "      <th>4</th>\n",
       "      <td>42</td>\n",
       "      <td>Cabbage Soup</td>\n",
       "      <td>1538</td>\n",
       "      <td>Duckie067</td>\n",
       "      <td>PT30M</td>\n",
       "      <td>PT20M</td>\n",
       "      <td>PT50M</td>\n",
       "      <td>1999-09-19T06:19:00Z</td>\n",
       "      <td>Make and share this Cabbage Soup recipe from F...</td>\n",
       "      <td>\"https://img.sndimg.com/food/image/upload/w_55...</td>\n",
       "      <td>...</td>\n",
       "      <td>17.7</td>\n",
       "      <td>4.3</td>\n",
       "      <td>4.0</td>\n",
       "      <td>NaN</td>\n",
       "      <td>c(\"Mix everything together and bring to a boil...</td>\n",
       "      <td>{'low-calorie', 'vegetarian', 'healthy', 'low-...</td>\n",
       "      <td>1</td>\n",
       "      <td>1</td>\n",
       "      <td>1</td>\n",
       "      <td>0</td>\n",
       "    </tr>\n",
       "  </tbody>\n",
       "</table>\n",
       "<p>5 rows × 33 columns</p>\n",
       "</div>"
      ],
      "text/plain": [
       "   RecipeId                               Name  AuthorId      AuthorName   \n",
       "0        38  Low-Fat Berry Blue Frozen Dessert      1533          Dancer  \\\n",
       "1        39                            Biryani      1567        elly9812   \n",
       "2        40                      Best Lemonade      1566  Stephen Little   \n",
       "3        41     Carina's Tofu-Vegetable Kebabs      1586         Cyclopz   \n",
       "4        42                       Cabbage Soup      1538       Duckie067   \n",
       "\n",
       "  CookTime PrepTime TotalTime         DatePublished   \n",
       "0    PT24H    PT45M  PT24H45M  1999-08-09T21:46:00Z  \\\n",
       "1    PT25M     PT4H   PT4H25M  1999-08-29T13:12:00Z   \n",
       "2     PT5M    PT30M     PT35M  1999-09-05T19:52:00Z   \n",
       "3    PT20M    PT24H  PT24H20M  1999-09-03T14:54:00Z   \n",
       "4    PT30M    PT20M     PT50M  1999-09-19T06:19:00Z   \n",
       "\n",
       "                                         Description   \n",
       "0  Make and share this Low-Fat Berry Blue Frozen ...  \\\n",
       "1  Make and share this Biryani recipe from Food.com.   \n",
       "2  This is from one of my  first Good House Keepi...   \n",
       "3  This dish is best prepared a day in advance to...   \n",
       "4  Make and share this Cabbage Soup recipe from F...   \n",
       "\n",
       "                                              Images  ... SugarContent   \n",
       "0  c(\"https://img.sndimg.com/food/image/upload/w_...  ...         30.2  \\\n",
       "1  c(\"https://img.sndimg.com/food/image/upload/w_...  ...         20.4   \n",
       "2  c(\"https://img.sndimg.com/food/image/upload/w_...  ...         77.2   \n",
       "3  c(\"https://img.sndimg.com/food/image/upload/w_...  ...         32.1   \n",
       "4  \"https://img.sndimg.com/food/image/upload/w_55...  ...         17.7   \n",
       "\n",
       "  ProteinContent RecipeServings RecipeYield   \n",
       "0            3.2            4.0         NaN  \\\n",
       "1           63.4            6.0         NaN   \n",
       "2            0.3            4.0         NaN   \n",
       "3           29.3            2.0    4 kebabs   \n",
       "4            4.3            4.0         NaN   \n",
       "\n",
       "                                  RecipeInstructions   \n",
       "0  c(\"Toss 2 cups berries with sugar.\", \"Let stan...  \\\n",
       "1  c(\"Soak saffron in warm milk for 5 minutes and...   \n",
       "2  c(\"Into a 1 quart Jar with tight fitting lid, ...   \n",
       "3  c(\"Drain the tofu, carefully squeezing out exc...   \n",
       "4  c(\"Mix everything together and bring to a boil...   \n",
       "\n",
       "                                        search_terms  vegan  vegetarian   \n",
       "0  {'low-calorie', 'low-sodium', 'dessert', 'heal...      0           0  \\\n",
       "1                 {'indian', 'dinner', 'low-sodium'}      0           0   \n",
       "2               {'healthy', 'low-fat', 'low-sodium'}      0           0   \n",
       "3  {'side', 'low-calorie', 'vegetarian', 'low-carb'}      0           1   \n",
       "4  {'low-calorie', 'vegetarian', 'healthy', 'low-...      1           1   \n",
       "\n",
       "   lactosefree  glutenfree  \n",
       "0            0           1  \n",
       "1            0           0  \n",
       "2            0           0  \n",
       "3            0           0  \n",
       "4            1           0  \n",
       "\n",
       "[5 rows x 33 columns]"
      ]
     },
     "execution_count": 4,
     "metadata": {},
     "output_type": "execute_result"
    }
   ],
   "source": [
    "df_recipes.head()"
   ]
  },
  {
   "cell_type": "markdown",
   "metadata": {},
   "source": [
    "--- \n",
    "\n",
    "### Build our glutenfree dataframe"
   ]
  },
  {
   "cell_type": "markdown",
   "metadata": {},
   "source": [
    "### Which recipes to include\n"
   ]
  },
  {
   "cell_type": "markdown",
   "metadata": {},
   "source": [
    "Filter by glutenfree recipes and only exclude them in the data. Also drop unnecessary columns."
   ]
  },
  {
   "cell_type": "code",
   "execution_count": 5,
   "metadata": {},
   "outputs": [],
   "source": [
    "ratings = df_reviews.copy()\n",
    "\n",
    "# Liste für vegan Rezepte initialisieren\n",
    "glutenfree_recipes = df_recipes[df_recipes['glutenfree'] == 1]['RecipeId'].tolist()\n",
    "\n",
    "# Nur die Zeilen in df_matrix behalten, deren Indexwert in vegan_recipes enthalten ist\n",
    "ratings_filtered = ratings[ratings['RecipeId'].isin(glutenfree_recipes)]\n",
    "glutenfree = ratings_filtered.copy()"
   ]
  },
  {
   "cell_type": "code",
   "execution_count": 6,
   "metadata": {},
   "outputs": [],
   "source": [
    "glutenfree.drop(['ReviewId', 'AuthorName', 'Review', 'DateSubmitted', 'DateModified'], axis=1, inplace=True)"
   ]
  },
  {
   "cell_type": "code",
   "execution_count": 7,
   "metadata": {},
   "outputs": [
    {
     "data": {
      "text/html": [
       "<div>\n",
       "<style scoped>\n",
       "    .dataframe tbody tr th:only-of-type {\n",
       "        vertical-align: middle;\n",
       "    }\n",
       "\n",
       "    .dataframe tbody tr th {\n",
       "        vertical-align: top;\n",
       "    }\n",
       "\n",
       "    .dataframe thead th {\n",
       "        text-align: right;\n",
       "    }\n",
       "</style>\n",
       "<table border=\"1\" class=\"dataframe\">\n",
       "  <thead>\n",
       "    <tr style=\"text-align: right;\">\n",
       "      <th></th>\n",
       "      <th>RecipeId</th>\n",
       "      <th>AuthorId</th>\n",
       "      <th>Rating</th>\n",
       "    </tr>\n",
       "  </thead>\n",
       "  <tbody>\n",
       "    <tr>\n",
       "      <th>13</th>\n",
       "      <td>1451</td>\n",
       "      <td>2416</td>\n",
       "      <td>2</td>\n",
       "    </tr>\n",
       "    <tr>\n",
       "      <th>21</th>\n",
       "      <td>780</td>\n",
       "      <td>2312</td>\n",
       "      <td>6</td>\n",
       "    </tr>\n",
       "    <tr>\n",
       "      <th>24</th>\n",
       "      <td>1078</td>\n",
       "      <td>2639</td>\n",
       "      <td>6</td>\n",
       "    </tr>\n",
       "    <tr>\n",
       "      <th>36</th>\n",
       "      <td>164</td>\n",
       "      <td>2312</td>\n",
       "      <td>6</td>\n",
       "    </tr>\n",
       "    <tr>\n",
       "      <th>84</th>\n",
       "      <td>1485</td>\n",
       "      <td>3625</td>\n",
       "      <td>6</td>\n",
       "    </tr>\n",
       "  </tbody>\n",
       "</table>\n",
       "</div>"
      ],
      "text/plain": [
       "    RecipeId  AuthorId  Rating\n",
       "13      1451      2416       2\n",
       "21       780      2312       6\n",
       "24      1078      2639       6\n",
       "36       164      2312       6\n",
       "84      1485      3625       6"
      ]
     },
     "execution_count": 7,
     "metadata": {},
     "output_type": "execute_result"
    }
   ],
   "source": [
    "glutenfree.head()"
   ]
  },
  {
   "cell_type": "markdown",
   "metadata": {},
   "source": [
    "### Which ratings and users to include"
   ]
  },
  {
   "cell_type": "markdown",
   "metadata": {},
   "source": [
    "##### Ratings"
   ]
  },
  {
   "cell_type": "markdown",
   "metadata": {},
   "source": [
    "Now we need to decide which recipes we want to include. Meaning we will check the number of ratings it has. Therefore, lets look at the following plot."
   ]
  },
  {
   "cell_type": "code",
   "execution_count": 64,
   "metadata": {},
   "outputs": [],
   "source": [
    "count_ratings = []\n",
    "for i in range(1, 51):\n",
    "    count_ratings.append(glutenfree.groupby(\"RecipeId\").filter(lambda x: x[\"RecipeId\"].count() > i).shape[0])"
   ]
  },
  {
   "cell_type": "code",
   "execution_count": 65,
   "metadata": {},
   "outputs": [
    {
     "data": {
      "image/png": "[encoded data removed]",
      "text/plain": [
       "<Figure size 640x480 with 1 Axes>"
      ]
     },
     "metadata": {},
     "output_type": "display_data"
    }
   ],
   "source": [
    "plt.plot(count_ratings)\n",
    "\n",
    "# Add title and labels\n",
    "plt.title(\"Rating Distribution across Recipes\")  # Add title\n",
    "plt.xlabel(\"Counted Ratings\")         # Add x-axis label\n",
    "plt.ylabel(\"Recipes\")         # Add y-axis label\n",
    "\n",
    "# Display the plot\n",
    "plt.show()"
   ]
  },
  {
   "cell_type": "markdown",
   "metadata": {},
   "source": [
    "It seems like more than 10 times rated recipes are the crucial points so we will look at only these in our model."
   ]
  },
  {
   "cell_type": "code",
   "execution_count": 8,
   "metadata": {},
   "outputs": [],
   "source": [
    "recipe_group = glutenfree.groupby(\"RecipeId\").filter(lambda x: x[\"RecipeId\"].count() > 10)\n"
   ]
  },
  {
   "cell_type": "markdown",
   "metadata": {},
   "source": [
    "##### Users\n",
    "\n",
    "Now we need to decide which recipes we want to include. Meaning we will check the number of ratings it has. Therefore, lets look at the following plot."
   ]
  },
  {
   "cell_type": "code",
   "execution_count": 67,
   "metadata": {},
   "outputs": [],
   "source": [
    "count_user_ratings = []\n",
    "for i in range(1, 51):\n",
    "    count_user_ratings.append(glutenfree.groupby(\"AuthorId\").filter(lambda x: x[\"AuthorId\"].count() > i).shape[0])"
   ]
  },
  {
   "cell_type": "code",
   "execution_count": 68,
   "metadata": {},
   "outputs": [
    {
     "data": {
      "image/png": "[encoded data removed]",
      "text/plain": [
       "<Figure size 640x480 with 1 Axes>"
      ]
     },
     "metadata": {},
     "output_type": "display_data"
    }
   ],
   "source": [
    "plt.plot(count_user_ratings)\n",
    "\n",
    "# Add title and labels\n",
    "plt.title(\"Rating Distribution across Authors\")  # Add title\n",
    "plt.xlabel(\"Counted Ratings\")         # Add x-axis label\n",
    "plt.ylabel(\"Athors\")         # Add y-axis label\n",
    "\n",
    "# Display the plot\n",
    "plt.show()"
   ]
  },
  {
   "cell_type": "markdown",
   "metadata": {},
   "source": [
    "It seems like users that rated more than 5 recipes are speakable of. So we will consider these in our model."
   ]
  },
  {
   "cell_type": "code",
   "execution_count": 9,
   "metadata": {},
   "outputs": [],
   "source": [
    "user_rating_group = glutenfree.groupby(['AuthorId']).filter(lambda x: x[\"AuthorId\"].count() > 5)\n"
   ]
  },
  {
   "cell_type": "code",
   "execution_count": 10,
   "metadata": {},
   "outputs": [],
   "source": [
    "glutenfree = glutenfree[glutenfree['AuthorId'].isin(user_rating_group['AuthorId'])]\n",
    "glutenfree = glutenfree[glutenfree['RecipeId'].isin(recipe_group['RecipeId'])]\n",
    "\n",
    "#glutenfree = glutenfree[glutenfree['RecipeId'].isin(recipe_group.index)]\n"
   ]
  },
  {
   "cell_type": "code",
   "execution_count": 11,
   "metadata": {},
   "outputs": [
    {
     "name": "stdout",
     "output_type": "stream",
     "text": [
      "<class 'pandas.core.frame.DataFrame'>\n",
      "Index: 7960 entries, 21 to 1401742\n",
      "Data columns (total 3 columns):\n",
      " #   Column    Non-Null Count  Dtype\n",
      "---  ------    --------------  -----\n",
      " 0   RecipeId  7960 non-null   int64\n",
      " 1   AuthorId  7960 non-null   int64\n",
      " 2   Rating    7960 non-null   int64\n",
      "dtypes: int64(3)\n",
      "memory usage: 248.8 KB\n"
     ]
    }
   ],
   "source": [
    "glutenfree.info()"
   ]
  },
  {
   "cell_type": "markdown",
   "metadata": {},
   "source": [
    "Check if a specific dish is in the glutenfree df."
   ]
  },
  {
   "cell_type": "code",
   "execution_count": 12,
   "metadata": {},
   "outputs": [
    {
     "name": "stdout",
     "output_type": "stream",
     "text": [
      "False\n"
     ]
    }
   ],
   "source": [
    "recipe_id = 76\n",
    "is_in_glutenfree = recipe_id in glutenfree.index\n",
    "print(is_in_glutenfree)"
   ]
  },
  {
   "cell_type": "markdown",
   "metadata": {},
   "source": [
    "---\n",
    "\n",
    "### Create a new user taste profile: Glutenfree and fish lover"
   ]
  },
  {
   "cell_type": "markdown",
   "metadata": {},
   "source": [
    "Now that we have our glutenfree dataframe. We will feed our dataframe with new recipes to create a profile of our persona. \n",
    "\n",
    "Our persona likes fish and doesn't eat gluten. The upcoming dishes were selected manually on food.com. You have to imagine you ate these meals and then rated them with the highest rating (=5).\n",
    "\n",
    "User ID = 29600"
   ]
  },
  {
   "cell_type": "code",
   "execution_count": 13,
   "metadata": {},
   "outputs": [
    {
     "name": "stdout",
     "output_type": "stream",
     "text": [
      "      RecipeId  AuthorId  Rating\n",
      "7960     41992     29600       6\n"
     ]
    }
   ],
   "source": [
    "new_row = {'RecipeId': 41992, 'AuthorId': 29600, 'Rating': 6}\n",
    "\n",
    "glutenfree.loc[len(glutenfree)] = new_row\n",
    "print(glutenfree.tail(1))"
   ]
  },
  {
   "cell_type": "code",
   "execution_count": 14,
   "metadata": {},
   "outputs": [
    {
     "name": "stdout",
     "output_type": "stream",
     "text": [
      "      RecipeId  AuthorId  Rating\n",
      "7960     41992     29600       6\n",
      "7961     44487     29600       6\n"
     ]
    }
   ],
   "source": [
    "new_row_1 = {'RecipeId': 44487, 'AuthorId': 29600, 'Rating': 6}\n",
    "\n",
    "glutenfree.loc[len(glutenfree)] = new_row_1\n",
    "print((glutenfree).tail(2))"
   ]
  },
  {
   "cell_type": "code",
   "execution_count": 15,
   "metadata": {},
   "outputs": [
    {
     "name": "stdout",
     "output_type": "stream",
     "text": [
      "      RecipeId  AuthorId  Rating\n",
      "7961     44487     29600       6\n",
      "7962    339474     29600       6\n"
     ]
    }
   ],
   "source": [
    "new_row_2 = {'RecipeId': 339474, 'AuthorId': 29600, 'Rating': 6}\n",
    "\n",
    "glutenfree.loc[len(glutenfree)] = new_row_2\n",
    "print((glutenfree).tail(2))"
   ]
  },
  {
   "cell_type": "code",
   "execution_count": 16,
   "metadata": {},
   "outputs": [
    {
     "name": "stdout",
     "output_type": "stream",
     "text": [
      "      RecipeId  AuthorId  Rating\n",
      "7962    339474     29600       6\n",
      "7963    255600     29600       6\n"
     ]
    }
   ],
   "source": [
    "new_row_3 = {'RecipeId': 255600, 'AuthorId': 29600, 'Rating': 6}\n",
    "\n",
    "glutenfree.loc[len(glutenfree)] = new_row_3\n",
    "print((glutenfree).tail(2))"
   ]
  },
  {
   "cell_type": "code",
   "execution_count": 17,
   "metadata": {},
   "outputs": [
    {
     "name": "stdout",
     "output_type": "stream",
     "text": [
      "      RecipeId  AuthorId  Rating\n",
      "7963    255600     29600       6\n",
      "7964     37457     29600       6\n"
     ]
    }
   ],
   "source": [
    "new_row_4 = {'RecipeId': 37457, 'AuthorId': 29600, 'Rating': 6}\n",
    "\n",
    "glutenfree.loc[len(glutenfree)] = new_row_4\n",
    "print((glutenfree).tail(2))"
   ]
  },
  {
   "cell_type": "code",
   "execution_count": 18,
   "metadata": {},
   "outputs": [
    {
     "name": "stdout",
     "output_type": "stream",
     "text": [
      "      RecipeId  AuthorId  Rating\n",
      "7964     37457     29600       6\n",
      "7965     41992     29600       6\n"
     ]
    }
   ],
   "source": [
    "new_row_5 = {'RecipeId': 41992, 'AuthorId': 29600, 'Rating': 6}\n",
    "\n",
    "glutenfree.loc[len(glutenfree)] = new_row_5\n",
    "print((glutenfree).tail(2))"
   ]
  },
  {
   "cell_type": "code",
   "execution_count": 19,
   "metadata": {},
   "outputs": [
    {
     "name": "stdout",
     "output_type": "stream",
     "text": [
      "      RecipeId  AuthorId  Rating\n",
      "7965     41992     29600       6\n",
      "7966     57170     29600       6\n"
     ]
    }
   ],
   "source": [
    "new_row_6 = {'RecipeId': 57170, 'AuthorId': 29600, 'Rating': 6}\n",
    "\n",
    "glutenfree.loc[len(glutenfree)] = new_row_6\n",
    "print((glutenfree).tail(2))"
   ]
  },
  {
   "cell_type": "code",
   "execution_count": 20,
   "metadata": {},
   "outputs": [
    {
     "name": "stdout",
     "output_type": "stream",
     "text": [
      "      RecipeId  AuthorId  Rating\n",
      "7966     57170     29600       6\n",
      "7967     48824     29600       6\n"
     ]
    }
   ],
   "source": [
    "new_row_7 = {'RecipeId': 48824, 'AuthorId': 29600, 'Rating': 6}\n",
    "\n",
    "glutenfree.loc[len(glutenfree)] = new_row_7\n",
    "print((glutenfree).tail(2))"
   ]
  },
  {
   "cell_type": "code",
   "execution_count": 21,
   "metadata": {},
   "outputs": [
    {
     "name": "stdout",
     "output_type": "stream",
     "text": [
      "      RecipeId  AuthorId  Rating\n",
      "7967     48824     29600       6\n",
      "7968     88346     29600       6\n"
     ]
    }
   ],
   "source": [
    "new_row_8 = {'RecipeId': 88346, 'AuthorId': 29600, 'Rating': 6}\n",
    "\n",
    "glutenfree.loc[len(glutenfree)] = new_row_8\n",
    "print((glutenfree).tail(2))"
   ]
  },
  {
   "cell_type": "code",
   "execution_count": 22,
   "metadata": {},
   "outputs": [
    {
     "name": "stdout",
     "output_type": "stream",
     "text": [
      "      RecipeId  AuthorId  Rating\n",
      "7968     88346     29600       6\n",
      "7969    138183     29600       6\n"
     ]
    }
   ],
   "source": [
    "new_row_9 = {'RecipeId': 138183, 'AuthorId': 29600, 'Rating': 6}\n",
    "\n",
    "glutenfree.loc[len(glutenfree)] = new_row_9\n",
    "print((glutenfree).tail(2))"
   ]
  },
  {
   "cell_type": "code",
   "execution_count": 23,
   "metadata": {},
   "outputs": [
    {
     "name": "stdout",
     "output_type": "stream",
     "text": [
      "      RecipeId  AuthorId  Rating\n",
      "7969    138183     29600       6\n",
      "7970    109163     29600       6\n"
     ]
    }
   ],
   "source": [
    "new_row_10 = {'RecipeId': 109163, 'AuthorId': 29600, 'Rating': 6}\n",
    "\n",
    "glutenfree.loc[len(glutenfree)] = new_row_10\n",
    "print((glutenfree).tail(2))"
   ]
  },
  {
   "cell_type": "code",
   "execution_count": 24,
   "metadata": {},
   "outputs": [
    {
     "name": "stdout",
     "output_type": "stream",
     "text": [
      "      RecipeId  AuthorId  Rating\n",
      "7970    109163     29600       6\n",
      "7971    305221     29600       6\n"
     ]
    }
   ],
   "source": [
    "new_row_11 = {'RecipeId': 305221, 'AuthorId': 29600, 'Rating': 6}\n",
    "\n",
    "glutenfree.loc[len(glutenfree)] = new_row_11\n",
    "print((glutenfree).tail(2))"
   ]
  },
  {
   "cell_type": "code",
   "execution_count": 25,
   "metadata": {},
   "outputs": [
    {
     "data": {
      "text/html": [
       "<div>\n",
       "<style scoped>\n",
       "    .dataframe tbody tr th:only-of-type {\n",
       "        vertical-align: middle;\n",
       "    }\n",
       "\n",
       "    .dataframe tbody tr th {\n",
       "        vertical-align: top;\n",
       "    }\n",
       "\n",
       "    .dataframe thead th {\n",
       "        text-align: right;\n",
       "    }\n",
       "</style>\n",
       "<table border=\"1\" class=\"dataframe\">\n",
       "  <thead>\n",
       "    <tr style=\"text-align: right;\">\n",
       "      <th></th>\n",
       "      <th>RecipeId</th>\n",
       "      <th>AuthorId</th>\n",
       "      <th>Rating</th>\n",
       "    </tr>\n",
       "  </thead>\n",
       "  <tbody>\n",
       "    <tr>\n",
       "      <th>21</th>\n",
       "      <td>780</td>\n",
       "      <td>2312</td>\n",
       "      <td>6</td>\n",
       "    </tr>\n",
       "    <tr>\n",
       "      <th>551</th>\n",
       "      <td>8806</td>\n",
       "      <td>7802</td>\n",
       "      <td>1</td>\n",
       "    </tr>\n",
       "    <tr>\n",
       "      <th>1350</th>\n",
       "      <td>10757</td>\n",
       "      <td>15572</td>\n",
       "      <td>6</td>\n",
       "    </tr>\n",
       "    <tr>\n",
       "      <th>1811</th>\n",
       "      <td>1505</td>\n",
       "      <td>13483</td>\n",
       "      <td>5</td>\n",
       "    </tr>\n",
       "    <tr>\n",
       "      <th>1989</th>\n",
       "      <td>11427</td>\n",
       "      <td>4470</td>\n",
       "      <td>1</td>\n",
       "    </tr>\n",
       "  </tbody>\n",
       "</table>\n",
       "</div>"
      ],
      "text/plain": [
       "      RecipeId  AuthorId  Rating\n",
       "21         780      2312       6\n",
       "551       8806      7802       1\n",
       "1350     10757     15572       6\n",
       "1811      1505     13483       5\n",
       "1989     11427      4470       1"
      ]
     },
     "execution_count": 25,
     "metadata": {},
     "output_type": "execute_result"
    }
   ],
   "source": [
    "glutenfree.head()"
   ]
  },
  {
   "cell_type": "markdown",
   "metadata": {},
   "source": [
    "---\n",
    "\n",
    "### Modeling\n",
    "\n",
    "#### 1. KNN"
   ]
  },
  {
   "cell_type": "code",
   "execution_count": 26,
   "metadata": {},
   "outputs": [],
   "source": [
    "glutenfree = glutenfree.pivot_table(index='RecipeId', columns='AuthorId', values='Rating')\n",
    "\n",
    "# Replace NaN with 0\n",
    "glutenfree.fillna(0, inplace=True)"
   ]
  },
  {
   "cell_type": "code",
   "execution_count": 37,
   "metadata": {},
   "outputs": [
    {
     "name": "stdout",
     "output_type": "stream",
     "text": [
      "RecipeIds and their names with the smallest distance for AuthorId 29600 are:\n",
      "     RecipeId                                               Name\n",
      "0       14953                 Black Bean, Corn, and Tomato Salad\n",
      "1      160607                         Italian Salad Dressing Mix\n",
      "2       94781                                       Dill Pickles\n",
      "3       34087                          Oven Fried Sweet Potatoes\n",
      "4      153163                   Holiday Flourless Chocolate Cake\n",
      "..        ...                                                ...\n",
      "339    439793  Feta, Sweet Potato and Spinach Crustless Quich...\n",
      "340     38478  Buttery Garlic and Sharp Cheddar Biscuits - Lo...\n",
      "341    446595               Famous Peanut Butter Oatmeal Cookies\n",
      "342    369025         2 Ingredients (Eggs &amp; Banana) Pancakes\n",
      "343     38080                                     Eggs in Clouds\n",
      "\n",
      "[344 rows x 2 columns]\n"
     ]
    }
   ],
   "source": [
    "# Define AuthorId\n",
    "specific_author_id = 29600\n",
    "\n",
    "# Extract Ratings for specific AuthorId\n",
    "query_data = glutenfree.loc[:, specific_author_id].values.reshape(1, -1)\n",
    "\n",
    "# Initialize and fit the Nearest Neighbors model\n",
    "# Überprüfen Sie, ob die Anzahl der Nachbarn größer ist als die Anzahl der Zeilen im DataFrame\n",
    "n_neighbors = min(600, glutenfree.shape[0])\n",
    "knn_model = NearestNeighbors(metric='cosine', algorithm='brute', n_neighbors=n_neighbors)\n",
    "knn_model.fit(glutenfree.T)  # Transpose the DataFrame to obtain the correct shape\n",
    "\n",
    "# Find the indices of the nearest neighbors for the specific AuthorId\n",
    "distances, neighbor_indices = knn_model.kneighbors(query_data)\n",
    "\n",
    "# Überprüfen Sie, ob der berechnete Indexwert innerhalb des gültigen Bereichs liegt\n",
    "valid_indices = [idx for idx in neighbor_indices.flatten() if idx < glutenfree.shape[0]]\n",
    "\n",
    "# Output the RecipeIds of the nearest neighbors\n",
    "nearest_recipe_ids = glutenfree.index[valid_indices]\n",
    "\n",
    "# Retrieve the corresponding names for the RecipeIds\n",
    "nearest_recipe_names = df_recipes[df_recipes['RecipeId'].isin(nearest_recipe_ids)]['Name'].values\n",
    "\n",
    "# Create a DataFrame with the RecipeIds and their names\n",
    "nearest_recipes_df = pd.DataFrame({'RecipeId': nearest_recipe_ids, 'Name': nearest_recipe_names})\n",
    "\n",
    "#create dataframe for streamlit\n",
    "nearest_recipe_ids_df = pd.DataFrame({'RecipeId': nearest_recipe_ids})\n",
    "\n",
    "# Sort the DataFrame by the smallest distance\n",
    "# nearest_recipes_df_sorted = nearest_recipes_df.sort_values(by='RecipeId')\n",
    "\n",
    "# Give RecipeIds & Names\n",
    "print(\"RecipeIds and their names with the smallest distance for AuthorId\", specific_author_id, \"are:\")\n",
    "print(nearest_recipes_df)"
   ]
  },
  {
   "cell_type": "markdown",
   "metadata": {},
   "source": [
    "---\n",
    "Uncommend to download for streamlit:"
   ]
  },
  {
   "cell_type": "code",
   "execution_count": 38,
   "metadata": {},
   "outputs": [],
   "source": [
    "# CSV of recommendations for streamlit\n",
    "# nearest_recipe_ids_df.to_csv(\"../data/knn_glutenfree_glutenfreefish.csv\")"
   ]
  },
  {
   "cell_type": "markdown",
   "metadata": {},
   "source": [
    "---"
   ]
  },
  {
   "cell_type": "code",
   "execution_count": 39,
   "metadata": {},
   "outputs": [
    {
     "name": "stdout",
     "output_type": "stream",
     "text": [
      "Empty DataFrame\n",
      "Columns: [RecipeId, Rating]\n",
      "Index: []\n"
     ]
    }
   ],
   "source": [
    "# Nehmen wir an, Ihre spezifische AuthorId ist 'specific_author_id'\n",
    "specific_author_id = 29600  # Hier die spezifische AuthorId eintragen\n",
    "\n",
    "# Filterung des DataFrames df_reviews basierend auf den Bedingungen\n",
    "reviews_of_specific_author = df_reviews[\n",
    "    (df_reviews['AuthorId'] == specific_author_id) &  # Nur Bewertungen der spezifischen AuthorId\n",
    "    (df_reviews['RecipeId'].isin(nearest_recipe_ids))  # Nur Bewertungen von RecipeIds in nearest_recipe_ids\n",
    "]\n",
    "\n",
    "# Auswahl der Spalten \"RecipeId\" und \"Rating\" aus dem DataFrame\n",
    "rated_recipes = reviews_of_specific_author[['RecipeId', 'Rating']]\n",
    "\n",
    "# Ausgabe der bewerteten RecipeIds und ihrer Bewertungen\n",
    "print(rated_recipes)\n",
    "\n"
   ]
  },
  {
   "cell_type": "markdown",
   "metadata": {},
   "source": [
    "#### 2. NMF\n"
   ]
  },
  {
   "cell_type": "code",
   "execution_count": 30,
   "metadata": {},
   "outputs": [
    {
     "data": {
      "text/html": [
       "<style>#sk-container-id-1 {color: black;background-color: white;}#sk-container-id-1 pre{padding: 0;}#sk-container-id-1 div.sk-toggleable {background-color: white;}#sk-container-id-1 label.sk-toggleable__label {cursor: pointer;display: block;width: 100%;margin-bottom: 0;padding: 0.3em;box-sizing: border-box;text-align: center;}#sk-container-id-1 label.sk-toggleable__label-arrow:before {content: \"▸\";float: left;margin-right: 0.25em;color: #696969;}#sk-container-id-1 label.sk-toggleable__label-arrow:hover:before {color: black;}#sk-container-id-1 div.sk-estimator:hover label.sk-toggleable__label-arrow:before {color: black;}#sk-container-id-1 div.sk-toggleable__content {max-height: 0;max-width: 0;overflow: hidden;text-align: left;background-color: #f0f8ff;}#sk-container-id-1 div.sk-toggleable__content pre {margin: 0.2em;color: black;border-radius: 0.25em;background-color: #f0f8ff;}#sk-container-id-1 input.sk-toggleable__control:checked~div.sk-toggleable__content {max-height: 200px;max-width: 100%;overflow: auto;}#sk-container-id-1 input.sk-toggleable__control:checked~label.sk-toggleable__label-arrow:before {content: \"▾\";}#sk-container-id-1 div.sk-estimator input.sk-toggleable__control:checked~label.sk-toggleable__label {background-color: #d4ebff;}#sk-container-id-1 div.sk-label input.sk-toggleable__control:checked~label.sk-toggleable__label {background-color: #d4ebff;}#sk-container-id-1 input.sk-hidden--visually {border: 0;clip: rect(1px 1px 1px 1px);clip: rect(1px, 1px, 1px, 1px);height: 1px;margin: -1px;overflow: hidden;padding: 0;position: absolute;width: 1px;}#sk-container-id-1 div.sk-estimator {font-family: monospace;background-color: #f0f8ff;border: 1px dotted black;border-radius: 0.25em;box-sizing: border-box;margin-bottom: 0.5em;}#sk-container-id-1 div.sk-estimator:hover {background-color: #d4ebff;}#sk-container-id-1 div.sk-parallel-item::after {content: \"\";width: 100%;border-bottom: 1px solid gray;flex-grow: 1;}#sk-container-id-1 div.sk-label:hover label.sk-toggleable__label {background-color: #d4ebff;}#sk-container-id-1 div.sk-serial::before {content: \"\";position: absolute;border-left: 1px solid gray;box-sizing: border-box;top: 0;bottom: 0;left: 50%;z-index: 0;}#sk-container-id-1 div.sk-serial {display: flex;flex-direction: column;align-items: center;background-color: white;padding-right: 0.2em;padding-left: 0.2em;position: relative;}#sk-container-id-1 div.sk-item {position: relative;z-index: 1;}#sk-container-id-1 div.sk-parallel {display: flex;align-items: stretch;justify-content: center;background-color: white;position: relative;}#sk-container-id-1 div.sk-item::before, #sk-container-id-1 div.sk-parallel-item::before {content: \"\";position: absolute;border-left: 1px solid gray;box-sizing: border-box;top: 0;bottom: 0;left: 50%;z-index: -1;}#sk-container-id-1 div.sk-parallel-item {display: flex;flex-direction: column;z-index: 1;position: relative;background-color: white;}#sk-container-id-1 div.sk-parallel-item:first-child::after {align-self: flex-end;width: 50%;}#sk-container-id-1 div.sk-parallel-item:last-child::after {align-self: flex-start;width: 50%;}#sk-container-id-1 div.sk-parallel-item:only-child::after {width: 0;}#sk-container-id-1 div.sk-dashed-wrapped {border: 1px dashed gray;margin: 0 0.4em 0.5em 0.4em;box-sizing: border-box;padding-bottom: 0.4em;background-color: white;}#sk-container-id-1 div.sk-label label {font-family: monospace;font-weight: bold;display: inline-block;line-height: 1.2em;}#sk-container-id-1 div.sk-label-container {text-align: center;}#sk-container-id-1 div.sk-container {/* jupyter's `normalize.less` sets `[hidden] { display: none; }` but bootstrap.min.css set `[hidden] { display: none !important; }` so we also need the `!important` here to be able to override the default hidden behavior on the sphinx rendered scikit-learn.org. See: https://github.com/scikit-learn/scikit-learn/issues/21755 */display: inline-block !important;position: relative;}#sk-container-id-1 div.sk-text-repr-fallback {display: none;}</style><div id=\"sk-container-id-1\" class=\"sk-top-container\"><div class=\"sk-text-repr-fallback\"><pre>NMF(n_components=6)</pre><b>In a Jupyter environment, please rerun this cell to show the HTML representation or trust the notebook. <br />On GitHub, the HTML representation is unable to render, please try loading this page with nbviewer.org.</b></div><div class=\"sk-container\" hidden><div class=\"sk-item\"><div class=\"sk-estimator sk-toggleable\"><input class=\"sk-toggleable__control sk-hidden--visually\" id=\"sk-estimator-id-1\" type=\"checkbox\" checked><label for=\"sk-estimator-id-1\" class=\"sk-toggleable__label sk-toggleable__label-arrow\">NMF</label><div class=\"sk-toggleable__content\"><pre>NMF(n_components=6)</pre></div></div></div></div></div>"
      ],
      "text/plain": [
       "NMF(n_components=6)"
      ]
     },
     "execution_count": 30,
     "metadata": {},
     "output_type": "execute_result"
    }
   ],
   "source": [
    "model = NMF(n_components=6)\n",
    "model.fit(glutenfree)"
   ]
  },
  {
   "cell_type": "code",
   "execution_count": 31,
   "metadata": {},
   "outputs": [
    {
     "data": {
      "text/html": [
       "<div>\n",
       "<style scoped>\n",
       "    .dataframe tbody tr th:only-of-type {\n",
       "        vertical-align: middle;\n",
       "    }\n",
       "\n",
       "    .dataframe tbody tr th {\n",
       "        vertical-align: top;\n",
       "    }\n",
       "\n",
       "    .dataframe thead th {\n",
       "        text-align: right;\n",
       "    }\n",
       "</style>\n",
       "<table border=\"1\" class=\"dataframe\">\n",
       "  <thead>\n",
       "    <tr style=\"text-align: right;\">\n",
       "      <th>AuthorId</th>\n",
       "      <th>1533</th>\n",
       "      <th>1535</th>\n",
       "      <th>2310</th>\n",
       "      <th>2312</th>\n",
       "      <th>4291</th>\n",
       "      <th>4439</th>\n",
       "      <th>4470</th>\n",
       "      <th>5060</th>\n",
       "      <th>6258</th>\n",
       "      <th>6357</th>\n",
       "      <th>...</th>\n",
       "      <th>1929066</th>\n",
       "      <th>2123645</th>\n",
       "      <th>2324285</th>\n",
       "      <th>2549237</th>\n",
       "      <th>2597942</th>\n",
       "      <th>2613820</th>\n",
       "      <th>1802849661</th>\n",
       "      <th>2000225933</th>\n",
       "      <th>2000431901</th>\n",
       "      <th>2001112113</th>\n",
       "    </tr>\n",
       "    <tr>\n",
       "      <th>RecipeId</th>\n",
       "      <th></th>\n",
       "      <th></th>\n",
       "      <th></th>\n",
       "      <th></th>\n",
       "      <th></th>\n",
       "      <th></th>\n",
       "      <th></th>\n",
       "      <th></th>\n",
       "      <th></th>\n",
       "      <th></th>\n",
       "      <th></th>\n",
       "      <th></th>\n",
       "      <th></th>\n",
       "      <th></th>\n",
       "      <th></th>\n",
       "      <th></th>\n",
       "      <th></th>\n",
       "      <th></th>\n",
       "      <th></th>\n",
       "      <th></th>\n",
       "      <th></th>\n",
       "    </tr>\n",
       "  </thead>\n",
       "  <tbody>\n",
       "    <tr>\n",
       "      <th>463710</th>\n",
       "      <td>0.000177</td>\n",
       "      <td>0.005981</td>\n",
       "      <td>0.006360</td>\n",
       "      <td>0.011473</td>\n",
       "      <td>0.000667</td>\n",
       "      <td>0.021210</td>\n",
       "      <td>0.025421</td>\n",
       "      <td>0.008076</td>\n",
       "      <td>0.020138</td>\n",
       "      <td>0.007452</td>\n",
       "      <td>...</td>\n",
       "      <td>6.181149e-03</td>\n",
       "      <td>1.601931e-01</td>\n",
       "      <td>0.006228</td>\n",
       "      <td>0.076531</td>\n",
       "      <td>0.040187</td>\n",
       "      <td>0.004816</td>\n",
       "      <td>0.019616</td>\n",
       "      <td>0.005958</td>\n",
       "      <td>0.003080</td>\n",
       "      <td>0.004362</td>\n",
       "    </tr>\n",
       "    <tr>\n",
       "      <th>467871</th>\n",
       "      <td>0.002439</td>\n",
       "      <td>0.012038</td>\n",
       "      <td>0.003640</td>\n",
       "      <td>0.002070</td>\n",
       "      <td>0.000000</td>\n",
       "      <td>0.000453</td>\n",
       "      <td>0.029692</td>\n",
       "      <td>0.021992</td>\n",
       "      <td>0.010469</td>\n",
       "      <td>0.014520</td>\n",
       "      <td>...</td>\n",
       "      <td>6.648393e-07</td>\n",
       "      <td>7.600100e-03</td>\n",
       "      <td>0.009024</td>\n",
       "      <td>0.005015</td>\n",
       "      <td>0.000723</td>\n",
       "      <td>0.000817</td>\n",
       "      <td>0.003965</td>\n",
       "      <td>0.000154</td>\n",
       "      <td>0.001906</td>\n",
       "      <td>0.008246</td>\n",
       "    </tr>\n",
       "    <tr>\n",
       "      <th>490362</th>\n",
       "      <td>0.000000</td>\n",
       "      <td>0.000495</td>\n",
       "      <td>0.000000</td>\n",
       "      <td>0.000000</td>\n",
       "      <td>0.000000</td>\n",
       "      <td>0.000000</td>\n",
       "      <td>0.000000</td>\n",
       "      <td>0.001102</td>\n",
       "      <td>0.000000</td>\n",
       "      <td>0.000995</td>\n",
       "      <td>...</td>\n",
       "      <td>6.884693e-04</td>\n",
       "      <td>0.000000e+00</td>\n",
       "      <td>0.000820</td>\n",
       "      <td>0.001008</td>\n",
       "      <td>0.004228</td>\n",
       "      <td>0.000269</td>\n",
       "      <td>0.002236</td>\n",
       "      <td>0.000476</td>\n",
       "      <td>0.000301</td>\n",
       "      <td>0.000159</td>\n",
       "    </tr>\n",
       "    <tr>\n",
       "      <th>501408</th>\n",
       "      <td>0.000576</td>\n",
       "      <td>0.002847</td>\n",
       "      <td>0.000799</td>\n",
       "      <td>0.000312</td>\n",
       "      <td>0.000015</td>\n",
       "      <td>0.000000</td>\n",
       "      <td>0.007015</td>\n",
       "      <td>0.005275</td>\n",
       "      <td>0.002476</td>\n",
       "      <td>0.003506</td>\n",
       "      <td>...</td>\n",
       "      <td>4.976841e-05</td>\n",
       "      <td>1.457480e-07</td>\n",
       "      <td>0.002191</td>\n",
       "      <td>0.000086</td>\n",
       "      <td>0.000305</td>\n",
       "      <td>0.000167</td>\n",
       "      <td>0.001061</td>\n",
       "      <td>0.000034</td>\n",
       "      <td>0.000458</td>\n",
       "      <td>0.001903</td>\n",
       "    </tr>\n",
       "    <tr>\n",
       "      <th>513062</th>\n",
       "      <td>0.003883</td>\n",
       "      <td>0.018923</td>\n",
       "      <td>0.005380</td>\n",
       "      <td>0.002103</td>\n",
       "      <td>0.000000</td>\n",
       "      <td>0.000000</td>\n",
       "      <td>0.047273</td>\n",
       "      <td>0.035014</td>\n",
       "      <td>0.016668</td>\n",
       "      <td>0.023118</td>\n",
       "      <td>...</td>\n",
       "      <td>1.058504e-06</td>\n",
       "      <td>0.000000e+00</td>\n",
       "      <td>0.014367</td>\n",
       "      <td>0.000000</td>\n",
       "      <td>0.000000</td>\n",
       "      <td>0.000990</td>\n",
       "      <td>0.006066</td>\n",
       "      <td>0.000000</td>\n",
       "      <td>0.002936</td>\n",
       "      <td>0.012739</td>\n",
       "    </tr>\n",
       "  </tbody>\n",
       "</table>\n",
       "<p>5 rows × 989 columns</p>\n",
       "</div>"
      ],
      "text/plain": [
       "AuthorId  1533        1535        2310        2312        4291         \n",
       "RecipeId                                                               \n",
       "463710      0.000177    0.005981    0.006360    0.011473    0.000667  \\\n",
       "467871      0.002439    0.012038    0.003640    0.002070    0.000000   \n",
       "490362      0.000000    0.000495    0.000000    0.000000    0.000000   \n",
       "501408      0.000576    0.002847    0.000799    0.000312    0.000015   \n",
       "513062      0.003883    0.018923    0.005380    0.002103    0.000000   \n",
       "\n",
       "AuthorId  4439        4470        5060        6258        6357        ...   \n",
       "RecipeId                                                              ...   \n",
       "463710      0.021210    0.025421    0.008076    0.020138    0.007452  ...  \\\n",
       "467871      0.000453    0.029692    0.021992    0.010469    0.014520  ...   \n",
       "490362      0.000000    0.000000    0.001102    0.000000    0.000995  ...   \n",
       "501408      0.000000    0.007015    0.005275    0.002476    0.003506  ...   \n",
       "513062      0.000000    0.047273    0.035014    0.016668    0.023118  ...   \n",
       "\n",
       "AuthorId    1929066       2123645     2324285     2549237     2597942      \n",
       "RecipeId                                                                   \n",
       "463710    6.181149e-03  1.601931e-01    0.006228    0.076531    0.040187  \\\n",
       "467871    6.648393e-07  7.600100e-03    0.009024    0.005015    0.000723   \n",
       "490362    6.884693e-04  0.000000e+00    0.000820    0.001008    0.004228   \n",
       "501408    4.976841e-05  1.457480e-07    0.002191    0.000086    0.000305   \n",
       "513062    1.058504e-06  0.000000e+00    0.014367    0.000000    0.000000   \n",
       "\n",
       "AuthorId  2613820     1802849661  2000225933  2000431901  2001112113  \n",
       "RecipeId                                                              \n",
       "463710      0.004816    0.019616    0.005958    0.003080    0.004362  \n",
       "467871      0.000817    0.003965    0.000154    0.001906    0.008246  \n",
       "490362      0.000269    0.002236    0.000476    0.000301    0.000159  \n",
       "501408      0.000167    0.001061    0.000034    0.000458    0.001903  \n",
       "513062      0.000990    0.006066    0.000000    0.002936    0.012739  \n",
       "\n",
       "[5 rows x 989 columns]"
      ]
     },
     "execution_count": 31,
     "metadata": {},
     "output_type": "execute_result"
    }
   ],
   "source": [
    "H = pd.DataFrame(model.components_)    \n",
    "W = pd.DataFrame(model.transform(glutenfree))    \n",
    "\n",
    "# Create new df with dot product of W & H\n",
    "V = pd.DataFrame(np.dot(W, H), columns=glutenfree.columns)\n",
    "V.index = glutenfree.index\n",
    "\n",
    "V.tail()"
   ]
  },
  {
   "cell_type": "code",
   "execution_count": 32,
   "metadata": {},
   "outputs": [
    {
     "data": {
      "text/plain": [
       "Index([      1533,       1535,       2310,       2312,       4291,       4439,\n",
       "             4470,       5060,       6258,       6357,\n",
       "       ...\n",
       "          1929066,    2123645,    2324285,    2549237,    2597942,    2613820,\n",
       "       1802849661, 2000225933, 2000431901, 2001112113],\n",
       "      dtype='int64', name='AuthorId', length=989)"
      ]
     },
     "execution_count": 32,
     "metadata": {},
     "output_type": "execute_result"
    }
   ],
   "source": [
    "V.columns.unique()"
   ]
  },
  {
   "cell_type": "code",
   "execution_count": 45,
   "metadata": {},
   "outputs": [
    {
     "name": "stdout",
     "output_type": "stream",
     "text": [
      "[15580, 305221, 370103, 135116, 350531, 166030, 150759, 128956, 149748, 304683, 415600, 242482, 367498, 418122, 149207, 123403, 219724, 417103, 34382, 244193, 305558, 343934, 141988, 329560, 253308, 304187, 181195, 244738, 414808, 347911, 226251, 94356, 455974, 344049, 242475, 307468, 330186, 350836, 230695, 450939, 460402, 321213, 363588, 8701, 198732, 420398, 50124, 150137, 304302, 384909, 27652, 287183, 191796, 135124, 322701, 145705, 294506, 232083, 362340, 387336, 171094, 69253, 239859, 377030, 34059, 237022, 52285, 224691, 439793, 95068, 370046, 54017, 300298, 396953, 173525, 310488, 364732, 14680, 263512, 41463, 139955, 5408, 38766, 235630, 59336, 364590, 186849, 229531, 272813, 24917, 106627, 347339, 145678, 201473, 421575, 23528, 24088, 342174, 71129, 8650, 28603, 1505, 255918, 443414, 369025, 316624, 74760, 21202, 208437, 2642, 95376, 69240, 37535, 51861, 242328, 69271, 261724, 11217, 417779, 164652, 56836, 11427, 140868, 220989, 359178, 141053, 162765, 127255, 26932, 278729, 137321, 36688, 142115, 23966, 94787, 49200, 29068, 188116, 17051, 109163, 224487, 95606, 30470, 56103, 39911, 95532, 36477, 38413, 16587, 68596, 220858, 57591, 63379, 43891, 35932, 1460, 191074, 256392, 362864, 69816, 34233, 114616, 94657, 148343, 13221, 17596, 391696, 278812, 37298, 172900, 98761, 32918, 17943, 244559, 144716, 143292, 44115, 289268, 186365, 43364, 278799, 550, 11791, 30044, 168634, 9272, 38932, 137505, 33312, 271353, 69990, 34649, 41992, 140618, 27778, 180804, 95416, 26469, 69841, 221956, 12354, 615, 183003, 94520, 94612, 404610, 17181, 94308, 38663, 69848, 133914, 27070, 71192, 31664, 388431, 302922, 200194, 435054, 152161, 219321, 18762, 311434, 246540, 11868, 31020, 116152, 59661, 70016, 22420, 94818, 1078, 95032, 31672, 21151, 124155, 13640, 142514, 14681, 153163, 209764, 13961, 71225, 299322, 217103, 30555, 298216, 18296, 39269, 27193, 28324, 159837, 293541, 23144, 24750, 94964, 26431, 203869, 195593, 145464, 112979, 36322, 316719, 280, 255422, 34335, 33861, 326682, 463710, 69909, 204504, 29451, 201073, 69903, 360337, 171215, 203211, 30146, 41253, 780, 40362, 2625, 228500, 16465, 242778, 43850, 206487, 71313, 28131, 30724, 34087, 346, 2987, 76684, 17254, 19141, 309848, 189571, 302218, 208556, 24576, 35699, 255067, 304233, 174346, 50820, 115068, 40290, 71258, 60078, 197398, 121714, 27398, 437479, 37859, 36084, 170085, 158778, 217763, 107384, 264839, 10757, 31008, 285471, 648, 26785, 825, 43582, 180306, 43934, 15917, 202343, 95365, 93026, 44487, 223099, 217139, 45539, 14716, 127200, 204629, 13606, 95304, 22060, 71205, 60904, 375800, 173017, 16438, 31207, 105376, 49068, 18163, 239599, 34245, 29697, 11147, 99863, 456, 16596, 13868, 182083, 174115, 123769, 54529, 110813, 94421, 22089, 44569, 14953, 1171, 16287, 57170, 234516, 36418, 16742, 19091, 233481, 423225, 108905, 441944, 69475, 155496, 13242, 13526, 108564, 42686, 19071, 71142, 39562, 36285, 72866, 29570, 95057, 16719, 38711, 17031, 268418, 70998, 174106, 247483, 20107, 123665, 26027, 340812, 26398, 94673, 219899, 95138, 143188, 197712, 214686, 129, 191161, 412473, 112931, 37768, 13098, 30579, 41567, 95424, 80434, 75637, 39586, 12539, 463626, 12977, 382092, 38702, 30248, 94989, 188204, 41808, 13373, 94781, 39881, 16603, 94458, 15283, 411501, 36505, 23113, 14111, 188261, 334210, 36490, 280408, 62, 38293, 397718, 18412, 95322, 95312, 15250, 146092, 17000, 16315, 365723, 41228, 15863, 94420, 95309, 111774, 23257, 46868, 110790, 146414, 37889, 147237, 366330, 31048, 29871, 308592, 422429, 41218, 279315, 14242, 339474, 12435, 24420, 15021, 66093, 36355, 51557, 17590, 94653, 69479, 27949, 49960, 69826, 295608, 14208, 123859, 14526, 45798, 20612, 16874, 147610, 21029, 2941, 106606, 38080, 31581, 39030, 95414, 69358, 15869, 119014, 214534, 43888, 39394, 29455, 297251, 125580, 191893, 418692, 70017, 203, 177902, 406047, 13126, 246226, 36188, 208877, 94817, 38422, 51038, 180154, 37634, 27336, 773, 14920, 290970, 24593, 70005, 13044, 71264, 156946, 44300, 21120, 50661, 362093, 4284, 157881, 189411, 294999, 98244, 44410, 446595, 12668, 12744, 31370, 352968, 44430, 27469, 32124, 150985, 19229, 410814, 8806, 543, 14784, 26706, 48611, 16558, 11548, 20910, 36772, 186848, 42697, 235534, 10836, 207729, 452783, 35079, 95103, 39622, 19142, 294059, 29461, 18657, 255239, 182471, 21182, 28029, 361510, 135725, 57225, 20762, 19513, 36531, 36302, 31624, 74371, 71175, 28150, 92903, 95290, 42281, 31458, 329345, 37457, 2940, 31147, 95509, 29571, 49554, 14845, 69347, 552, 43914, 152283, 123775, 48824, 88346, 138183, 42710, 15107, 29476, 16048, 13210, 376155, 282052, 95017, 71042, 125209, 31108, 10633, 186517, 182927, 14480, 18556, 21051, 97130, 41042, 22429, 71208, 229625, 160607, 42245, 94363, 255600, 42322, 754, 36722, 15641, 95466, 490362, 30279, 28683, 14004, 242638, 20684, 179867, 38478, 16540, 204257, 49444, 22162, 20013, 39505, 29801, 16498, 12275, 189120, 24444, 19299, 25486, 43065, 16967, 124781, 31558, 95383, 35424, 13070, 566, 303819, 393411, 94732, 190906, 29150, 311455, 157239, 191275, 51890, 1157, 95452, 376575, 2670, 451, 15589, 116906, 29491, 71095, 179716, 13586, 195106, 96274, 42105, 282620, 289160, 69868, 201483, 9145, 20746, 110619, 112371, 467871, 32721, 126014, 15983, 49597, 171217, 308802, 27424, 213653, 25509, 513062, 415803, 276879, 71234, 92196, 290760, 258425, 214688, 501408, 2479, 95474, 293500, 397737, 69370, 2930, 124172]\n"
     ]
    }
   ],
   "source": [
    "top_indices = V[29600].nlargest(1000000000000000).index.tolist()\n",
    "\n",
    "# Ausgabe der Indizes\n",
    "print(top_indices)"
   ]
  },
  {
   "cell_type": "code",
   "execution_count": 46,
   "metadata": {},
   "outputs": [
    {
     "name": "stdout",
     "output_type": "stream",
     "text": [
      "     RecipeId\n",
      "0       15580\n",
      "1      305221\n",
      "2      370103\n",
      "3      135116\n",
      "4      350531\n",
      "..        ...\n",
      "727    293500\n",
      "728    397737\n",
      "729     69370\n",
      "730      2930\n",
      "731    124172\n",
      "\n",
      "[732 rows x 1 columns]\n"
     ]
    }
   ],
   "source": [
    "# DataFrame df_recomm mit einer Spalte \"RecipeId\" erstellen\n",
    "df_recomm = pd.DataFrame({'RecipeId': top_indices})\n",
    "\n",
    "# Ausgabe des neuen DataFrames\n",
    "print(df_recomm)"
   ]
  },
  {
   "cell_type": "markdown",
   "metadata": {},
   "source": [
    "---\n",
    "Uncommend to download for streamlit:"
   ]
  },
  {
   "cell_type": "code",
   "execution_count": 47,
   "metadata": {},
   "outputs": [],
   "source": [
    "# CSV of recommendations for streamlit\n",
    "# df_recomm.to_csv(\"../data/nmf_glutenfree_glutenfreefish.csv\")"
   ]
  },
  {
   "cell_type": "markdown",
   "metadata": {},
   "source": [
    "---"
   ]
  },
  {
   "cell_type": "code",
   "execution_count": 48,
   "metadata": {},
   "outputs": [
    {
     "name": "stdout",
     "output_type": "stream",
     "text": [
      "     RecipeId                                      RecipeName\n",
      "0       15580                        Grilled Moroccan Chicken\n",
      "1      305221                   Lemon Pepper Fish Greek Style\n",
      "2      370103                        Saut&eacute;ed Mushrooms\n",
      "3      135116                         Potatoes a L'alsacienne\n",
      "4      350531                             Homemade Oven Chips\n",
      "..        ...                                             ...\n",
      "727    293500       South Beach Diet P1 Peanut Butter Muffins\n",
      "728    397737                        Habanero Mango Hot Sauce\n",
      "729     69370  Grilled Peaches with Whipped Cream and Caramel\n",
      "730      2930                          Winnipeg Chicken Curry\n",
      "731    124172                      The World's Best Fruitcake\n",
      "\n",
      "[732 rows x 2 columns]\n"
     ]
    }
   ],
   "source": [
    "# Merge der DataFrames basierend auf der Spalte \"RecipeId\"\n",
    "df_recomm = df_recomm.merge(df_recipes[['RecipeId', 'Name']], on='RecipeId', how='left')\n",
    "\n",
    "# Umbenennen der Spalte \"Name\" in \"RecipeName\"\n",
    "df_recomm = df_recomm.rename(columns={'Name': 'RecipeName'})\n",
    "\n",
    "# Ausgabe des neuen DataFrames\n",
    "print(df_recomm)"
   ]
  },
  {
   "cell_type": "markdown",
   "metadata": {},
   "source": [
    "Now lets check if the user has already rated one of the recommended recipes. Since we only want to suggest the not rated recipes yet."
   ]
  },
  {
   "cell_type": "code",
   "execution_count": 36,
   "metadata": {},
   "outputs": [
    {
     "name": "stdout",
     "output_type": "stream",
     "text": [
      "Empty DataFrame\n",
      "Columns: [RecipeId, Rating]\n",
      "Index: []\n"
     ]
    }
   ],
   "source": [
    "# AuthorId is 'specific_author_id'\n",
    "specific_author_id = 29600\n",
    "\n",
    "# Filter the dataframes df_reviews based on the conditions\n",
    "reviews_of_specific_author = df_reviews[\n",
    "    (df_reviews['AuthorId'] == specific_author_id) &\n",
    "    (df_reviews['RecipeId'].isin(df_recomm)) \n",
    "]\n",
    "\n",
    "# select the recipeIds and their rating\n",
    "rated_recipes = reviews_of_specific_author[['RecipeId', 'Rating']]\n",
    "print(rated_recipes)\n"
   ]
  },
  {
   "cell_type": "markdown",
   "metadata": {},
   "source": [
    "None of the recommended recipes where rated so here we have our recommended recipes according to the NMF Model."
   ]
  }
 ],
 "metadata": {
  "kernelspec": {
   "display_name": ".venv",
   "language": "python",
   "name": "python3"
  },
  "language_info": {
   "codemirror_mode": {
    "name": "ipython",
    "version": 3
   },
   "file_extension": ".py",
   "mimetype": "text/x-python",
   "name": "python",
   "nbconvert_exporter": "python",
   "pygments_lexer": "ipython3",
   "version": "3.11.3"
  }
 },
 "nbformat": 4,
 "nbformat_minor": 2
}
